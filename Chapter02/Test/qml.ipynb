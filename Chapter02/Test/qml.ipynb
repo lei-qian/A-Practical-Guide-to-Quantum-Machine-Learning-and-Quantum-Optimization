{
 "cells": [
  {
   "cell_type": "code",
   "execution_count": 4,
   "id": "f6673e5c",
   "metadata": {},
   "outputs": [],
   "source": [
    "from sklearn import model_selection, datasets, svm\n",
    "from qiskit import QuantumCircuit,  QuantumRegister, ClassicalRegister\n",
    "from qiskit_aer import AerSimulator\n",
    "from qiskit_ibm_provider import IBMProvider\n"
   ]
  },
  {
   "cell_type": "code",
   "execution_count": 5,
   "id": "c0c4a099",
   "metadata": {},
   "outputs": [],
   "source": [
    "iris = datasets.load_iris()\n",
    "X = iris.data[:100]\n",
    "Y = iris.target[:100]\n",
    "X_train, X_test, Y_train, Y_test = model_selection.train_test_split(X, Y, test_size = 0.33)"
   ]
  },
  {
   "cell_type": "code",
   "execution_count": null,
   "id": "17bbba00",
   "metadata": {},
   "outputs": [
    {
     "name": "stdout",
     "output_type": "stream",
     "text": [
      "[5.5 2.4 3.7 1. ]\n"
     ]
    }
   ],
   "source": [
    "print(X_train[0])"
   ]
  },
  {
   "cell_type": "code",
   "execution_count": null,
   "id": "89dd5433",
   "metadata": {},
   "outputs": [],
   "source": []
  }
 ],
 "metadata": {
  "kernelspec": {
   "display_name": "qiskit",
   "language": "python",
   "name": "python3"
  },
  "language_info": {
   "codemirror_mode": {
    "name": "ipython",
    "version": 3
   },
   "file_extension": ".py",
   "mimetype": "text/x-python",
   "name": "python",
   "nbconvert_exporter": "python",
   "pygments_lexer": "ipython3",
   "version": "3.12.9"
  }
 },
 "nbformat": 4,
 "nbformat_minor": 5
}
