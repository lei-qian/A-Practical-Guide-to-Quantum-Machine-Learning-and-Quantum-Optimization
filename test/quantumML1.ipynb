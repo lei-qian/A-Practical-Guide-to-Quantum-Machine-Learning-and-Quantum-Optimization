{
 "cells": [
  {
   "cell_type": "markdown",
   "id": "06c23201",
   "metadata": {},
   "source": [
    "# Quantum ML Test\n",
    "Requirements:\n",
    "\n",
    "Qiskit installed (pip install qiskit qiskit-machine-learning pandas scikit-learn)\n",
    "\n",
    "An IBM Quantum account (get your API token from IBM Quantum)"
   ]
  },
  {
   "cell_type": "markdown",
   "id": "aa6ca032",
   "metadata": {},
   "source": [
    "## 1. Load and Preprocess the Dataset"
   ]
  },
  {
   "cell_type": "code",
   "execution_count": 1,
   "id": "641d77f8",
   "metadata": {},
   "outputs": [],
   "source": [
    "import pandas as pd\n",
    "from sklearn.model_selection import train_test_split\n",
    "from sklearn.preprocessing import StandardScaler\n",
    "\n",
    "# Load the dataset\n",
    "df = pd.read_csv('diabetes.csv')\n",
    "\n",
    "# Features and labels\n",
    "X = df.drop('Outcome', axis=1)\n",
    "y = df['Outcome']\n",
    "\n",
    "# Standardize features\n",
    "scaler = StandardScaler()\n",
    "X_scaled = scaler.fit_transform(X)\n",
    "\n",
    "# For quantum, reduce to 2 features (for visualization and circuit size)\n",
    "X_small = X_scaled[:, :2]\n",
    "\n",
    "# Split data\n",
    "X_train, X_test, y_train, y_test = train_test_split(X_small, y, test_size=0.2, random_state=42, stratify=y)"
   ]
  },
  {
   "cell_type": "markdown",
   "id": "79552edf",
   "metadata": {},
   "source": [
    "## 2. Set Up Qiskit and IBM Quantum Account"
   ]
  },
  {
   "cell_type": "code",
   "execution_count": 2,
   "id": "0e832a10",
   "metadata": {},
   "outputs": [],
   "source": [
    "from qiskit_ibm_runtime import QiskitRuntimeService\n",
    "\n",
    "# Save your IBM Quantum API token in your environment or paste it here\n",
    "token = \"VMgmA9Gjyklr5uAIq8S6FYXrmKvoVN3QLo714I6KjRBA\"\n",
    "instance_id = \"QML\"\n",
    "#service = QiskitRuntimeService(channel = \"ibm_cloud\", token = token)\n",
    "QiskitRuntimeService.save_account(channel=\"ibm_cloud\", token=token, instance=instance_id, overwrite=True)\n"
   ]
  },
  {
   "cell_type": "code",
   "execution_count": 3,
   "id": "3f391038",
   "metadata": {},
   "outputs": [
    {
     "name": "stdout",
     "output_type": "stream",
     "text": [
      "Using backend: <IBMBackend('ibm_torino')>\n"
     ]
    }
   ],
   "source": [
    "service = QiskitRuntimeService(channel=\"ibm_cloud\")\n",
    "backend = service.least_busy(operational=True, simulator=False)\n",
    "print(\"Using backend:\", backend)"
   ]
  },
  {
   "cell_type": "markdown",
   "id": "e5fd76c3",
   "metadata": {},
   "source": [
    "## 3. Build and Train the Quantum SVM"
   ]
  },
  {
   "cell_type": "code",
   "execution_count": 5,
   "id": "e783f233",
   "metadata": {},
   "outputs": [
    {
     "ename": "ImportError",
     "evalue": "cannot import name 'algorithm_globals' from 'qiskit.utils' (c:\\Users\\leqian\\anaconda3\\envs\\qiskit\\Lib\\site-packages\\qiskit\\utils\\__init__.py)",
     "output_type": "error",
     "traceback": [
      "\u001b[31m---------------------------------------------------------------------------\u001b[39m",
      "\u001b[31mImportError\u001b[39m                               Traceback (most recent call last)",
      "\u001b[36mCell\u001b[39m\u001b[36m \u001b[39m\u001b[32mIn[5]\u001b[39m\u001b[32m, line 3\u001b[39m\n\u001b[32m      1\u001b[39m \u001b[38;5;28;01mfrom\u001b[39;00m\u001b[38;5;250m \u001b[39m\u001b[34;01mqiskit\u001b[39;00m\u001b[34;01m.\u001b[39;00m\u001b[34;01mcircuit\u001b[39;00m\u001b[34;01m.\u001b[39;00m\u001b[34;01mlibrary\u001b[39;00m\u001b[38;5;250m \u001b[39m\u001b[38;5;28;01mimport\u001b[39;00m ZZFeatureMap\n\u001b[32m      2\u001b[39m \u001b[38;5;28;01mfrom\u001b[39;00m\u001b[38;5;250m \u001b[39m\u001b[34;01mqiskit_machine_learning\u001b[39;00m\u001b[34;01m.\u001b[39;00m\u001b[34;01mkernels\u001b[39;00m\u001b[38;5;250m \u001b[39m\u001b[38;5;28;01mimport\u001b[39;00m FidelityQuantumKernel\n\u001b[32m----> \u001b[39m\u001b[32m3\u001b[39m \u001b[38;5;28;01mfrom\u001b[39;00m\u001b[38;5;250m \u001b[39m\u001b[34;01mqiskit\u001b[39;00m\u001b[34;01m.\u001b[39;00m\u001b[34;01mutils\u001b[39;00m\u001b[38;5;250m \u001b[39m\u001b[38;5;28;01mimport\u001b[39;00m algorithm_globals\n\u001b[32m      4\u001b[39m \u001b[38;5;28;01mfrom\u001b[39;00m\u001b[38;5;250m \u001b[39m\u001b[34;01msklearn\u001b[39;00m\u001b[34;01m.\u001b[39;00m\u001b[34;01msvm\u001b[39;00m\u001b[38;5;250m \u001b[39m\u001b[38;5;28;01mimport\u001b[39;00m SVC\n\u001b[32m      6\u001b[39m algorithm_globals.random_seed = \u001b[32m42\u001b[39m\n",
      "\u001b[31mImportError\u001b[39m: cannot import name 'algorithm_globals' from 'qiskit.utils' (c:\\Users\\leqian\\anaconda3\\envs\\qiskit\\Lib\\site-packages\\qiskit\\utils\\__init__.py)"
     ]
    }
   ],
   "source": [
    "from qiskit.circuit.library import ZZFeatureMap\n",
    "from qiskit_machine_learning.kernels import FidelityQuantumKernel\n",
    "from qiskit.utils import algorithm_globals\n",
    "from sklearn.svm import SVC\n",
    "\n",
    "algorithm_globals.random_seed = 42\n",
    "\n",
    "# Feature map for 2 features\n",
    "feature_map = ZZFeatureMap(feature_dimension=2, reps=2)\n",
    "\n",
    "# Quantum kernel using the real backend\n",
    "quantum_kernel = QuantumKernel(feature_map=feature_map, quantum_instance=backend)\n",
    "\n",
    "# Compute the kernel matrices\n",
    "kernel_train = quantum_kernel.evaluate(x_vec=X_train)\n",
    "kernel_test = quantum_kernel.evaluate(x_vec=X_test, y_vec=X_train)\n",
    "\n",
    "# Train SVM with precomputed quantum kernel\n",
    "qsvc = SVC(kernel='precomputed')\n",
    "qsvc.fit(kernel_train, y_train)\n",
    "\n",
    "# Predict and evaluate\n",
    "y_pred = qsvc.predict(kernel_test)\n",
    "\n",
    "from sklearn.metrics import accuracy_score, classification_report\n",
    "print(\"Test accuracy:\", accuracy_score(y_test, y_pred))\n",
    "print(classification_report(y_test, y_pred))"
   ]
  },
  {
   "cell_type": "markdown",
   "id": "33798179",
   "metadata": {},
   "source": [
    "## 4. Notes\n",
    "\n",
    "- Quantum resources are limited: For a real backend, jobs may queue and take time. For quick tests, use backend = service.get_backend('ibmq_qasm_simulator').\n",
    "- Feature reduction: Quantum SVMs are currently practical for 2-3 features due to circuit depth and noise. For more features, use PCA or select the most relevant ones.\n",
    "- API Token: Replace \"YOUR_IBM_QUANTUM_TOKEN\" with your actual token if not already saved."
   ]
  },
  {
   "cell_type": "markdown",
   "id": "4c183c08",
   "metadata": {},
   "source": [
    "## Full Example"
   ]
  },
  {
   "cell_type": "code",
   "execution_count": null,
   "id": "78dda240",
   "metadata": {},
   "outputs": [],
   "source": [
    "import pandas as pd\n",
    "from sklearn.model_selection import train_test_split\n",
    "from sklearn.preprocessing import StandardScaler\n",
    "from qiskit_ibm_runtime import QiskitRuntimeService\n",
    "from qiskit.circuit.library import ZZFeatureMap\n",
    "from qiskit_machine_learning.kernels import QuantumKernel\n",
    "from qiskit.utils import algorithm_globals\n",
    "from sklearn.svm import SVC\n",
    "from sklearn.metrics import accuracy_score, classification_report\n",
    "\n",
    "# 1. Load and preprocess data\n",
    "df = pd.read_csv('test/diabetes.csv')\n",
    "X = df.drop('Outcome', axis=1)\n",
    "y = df['Outcome']\n",
    "scaler = StandardScaler()\n",
    "X_scaled = scaler.fit_transform(X)\n",
    "X_small = X_scaled[:, :2]\n",
    "X_train, X_test, y_train, y_test = train_test_split(X_small, y, test_size=0.2, random_state=42, stratify=y)\n",
    "\n",
    "# 2. Set up IBM Quantum backend\n",
    "service = QiskitRuntimeService(channel=\"ibm_quantum\")\n",
    "backend = service.least_busy(operational=True, simulator=False)\n",
    "print(\"Using backend:\", backend)\n",
    "\n",
    "# 3. Quantum SVM\n",
    "algorithm_globals.random_seed = 42\n",
    "feature_map = ZZFeatureMap(feature_dimension=2, reps=2)\n",
    "quantum_kernel = QuantumKernel(feature_map=feature_map, quantum_instance=backend)\n",
    "kernel_train = quantum_kernel.evaluate(x_vec=X_train)\n",
    "kernel_test = quantum_kernel.evaluate(x_vec=X_test, y_vec=X_train)\n",
    "qsvc = SVC(kernel='precomputed')\n",
    "qsvc.fit(kernel_train, y_train)\n",
    "y_pred = qsvc.predict(kernel_test)\n",
    "\n",
    "# 4. Results\n",
    "print(\"Test accuracy:\", accuracy_score(y_test, y_pred))\n",
    "print(classification_report(y_test, y_pred))"
   ]
  }
 ],
 "metadata": {
  "kernelspec": {
   "display_name": "qiskit",
   "language": "python",
   "name": "python3"
  },
  "language_info": {
   "codemirror_mode": {
    "name": "ipython",
    "version": 3
   },
   "file_extension": ".py",
   "mimetype": "text/x-python",
   "name": "python",
   "nbconvert_exporter": "python",
   "pygments_lexer": "ipython3",
   "version": "3.12.9"
  }
 },
 "nbformat": 4,
 "nbformat_minor": 5
}
