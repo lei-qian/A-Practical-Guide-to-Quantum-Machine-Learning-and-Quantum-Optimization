{
 "cells": [
  {
   "cell_type": "markdown",
   "id": "398a1114",
   "metadata": {},
   "source": [
    "# CHAPTER 9 - Quantum Support Vector Machines - Code"
   ]
  },
  {
   "cell_type": "markdown",
   "id": "d60f20a9",
   "metadata": {},
   "source": [
    "*Note*: You may skip the following four cells if you have alredy installed the right versions of all the libraries mentioned in *Appendix D*. This will likely NOT be the case if you are running this notebook on a cloud service such as Google Colab."
   ]
  },
  {
   "cell_type": "code",
   "execution_count": 1,
   "id": "c31af5f7",
   "metadata": {},
   "outputs": [],
   "source": [
    "#!pip install scikit-learn\n",
    "#!pip install pennylane==0.26\n",
    "#!pip install qiskit==0.39.2\n",
    "#!pip install qiskit_machine_learning==0.5.0"
   ]
  },
  {
   "cell_type": "code",
   "execution_count": 2,
   "id": "6d229d9c",
   "metadata": {},
   "outputs": [
    {
     "name": "stdout",
     "output_type": "stream",
     "text": [
      "2.0.1\n"
     ]
    }
   ],
   "source": [
    "import numpy as np\n",
    "\n",
    "print(np.__version__)\n",
    "seed = 1234\n",
    "np.random.seed(seed)"
   ]
  },
  {
   "cell_type": "code",
   "execution_count": 3,
   "id": "146e2244",
   "metadata": {},
   "outputs": [
    {
     "name": "stdout",
     "output_type": "stream",
     "text": [
      "   Pregnancies  Glucose  BloodPressure  SkinThickness  Insulin   BMI  \\\n",
      "0            6      148             72             35        0  33.6   \n",
      "1            1       85             66             29        0  26.6   \n",
      "2            8      183             64              0        0  23.3   \n",
      "3            1       89             66             23       94  28.1   \n",
      "4            0      137             40             35      168  43.1   \n",
      "\n",
      "   DiabetesPedigreeFunction  Age  Outcome  \n",
      "0                     0.627   50        1  \n",
      "1                     0.351   31        0  \n",
      "2                     0.672   32        1  \n",
      "3                     0.167   21        0  \n",
      "4                     2.288   33        1  \n"
     ]
    }
   ],
   "source": [
    "import pandas as pd\n",
    "from sklearn.preprocessing import MinMaxScaler\n",
    "\n",
    "# Load diabetes data\n",
    "df = pd.read_csv(\"diabetes.csv\")\n",
    "\n",
    "print(df.head())"
   ]
  },
  {
   "cell_type": "code",
   "execution_count": 4,
   "id": "d7c76c1e",
   "metadata": {},
   "outputs": [],
   "source": [
    "x = df.drop(\"Outcome\", axis=1)\n",
    "y = df[\"Outcome\"]"
   ]
  },
  {
   "cell_type": "code",
   "execution_count": 5,
   "id": "e901eb51",
   "metadata": {},
   "outputs": [
    {
     "name": "stdout",
     "output_type": "stream",
     "text": [
      "(614, 8) (154, 8) (614,) (154,)\n"
     ]
    }
   ],
   "source": [
    "from sklearn.model_selection import train_test_split\n",
    "x_train, x_test, y_train, y_test = train_test_split(x, y, test_size=0.2, random_state=42)\n",
    "print(x_train.shape, x_test.shape, y_train.shape, y_test.shape)"
   ]
  },
  {
   "cell_type": "code",
   "execution_count": 9,
   "id": "56a1e1d4",
   "metadata": {},
   "outputs": [
    {
     "name": "stdout",
     "output_type": "stream",
     "text": [
      "[4.00455182 2.44134623 2.84279725 2.7624583  6.58309754 4.54036251\n",
      " 5.79617534 4.18414491]\n",
      "[-1.13052335 -3.77566322 -3.75268255 -1.32277365 -0.70120553 -4.13525578\n",
      " -1.16221007 -1.03594038]\n",
      "[2.79629884 2.37886372 2.41030677 5.09687656 4.28415082 2.7431778\n",
      " 2.7359119  2.96612501]\n",
      "[-1.13052335 -1.8387055  -3.75268255 -1.32277365 -0.70120553 -4.13525578\n",
      " -1.09090296 -1.03594038]\n"
     ]
    }
   ],
   "source": [
    "from sklearn.preprocessing import StandardScaler\n",
    "\n",
    "scaler = StandardScaler()\n",
    "x_tr = scaler.fit_transform(x_train)\n",
    "x_te = scaler.transform(x_test)\n",
    "print(x_tr.max(axis=0))\n",
    "print(x_tr.min(axis=0))\n",
    "print(x_te.max(axis=0))\n",
    "print(x_te.min(axis=0))"
   ]
  },
  {
   "cell_type": "code",
   "execution_count": 10,
   "id": "7a28e035",
   "metadata": {},
   "outputs": [
    {
     "name": "stdout",
     "output_type": "stream",
     "text": [
      "0.42.0\n"
     ]
    }
   ],
   "source": [
    "import pennylane as qml\n",
    "print(qml.__version__)\n",
    "\n",
    "nqubits = 4\n",
    "dev = qml.device(\"lightning.qubit\", wires = nqubits)\n",
    "\n",
    "@qml.qnode(dev)\n",
    "def kernel_circ(a, b):\n",
    "    qml.AmplitudeEmbedding(\n",
    "        a, wires=range(nqubits), pad_with=0, normalize=True)\n",
    "    qml.adjoint(qml.AmplitudeEmbedding(\n",
    "        b, wires=range(nqubits), pad_with=0, normalize=True))\n",
    "    return qml.probs(wires = range(nqubits))"
   ]
  },
  {
   "cell_type": "code",
   "execution_count": 12,
   "id": "50f14380",
   "metadata": {},
   "outputs": [],
   "source": [
    "from sklearn.svm import SVC\n",
    "def qkernel(A, B):\n",
    "    return np.array([[kernel_circ(a, b)[0] for b in B] for a in A])\n",
    "\n",
    "svm = SVC(kernel = qkernel).fit(x_tr, y_train)"
   ]
  },
  {
   "cell_type": "code",
   "execution_count": 14,
   "id": "8688dcaf",
   "metadata": {},
   "outputs": [
    {
     "name": "stdout",
     "output_type": "stream",
     "text": [
      "0.6623376623376623\n"
     ]
    }
   ],
   "source": [
    "from sklearn.metrics import accuracy_score\n",
    "\n",
    "print(accuracy_score(svm.predict(x_te), y_test))"
   ]
  },
  {
   "cell_type": "code",
   "execution_count": 15,
   "id": "d45ce737",
   "metadata": {},
   "outputs": [
    {
     "name": "stderr",
     "output_type": "stream",
     "text": [
      "c:\\Users\\leqian\\anaconda3\\envs\\qiskit\\Lib\\site-packages\\sklearn\\utils\\validation.py:2732: UserWarning: X has feature names, but PCA was fitted without feature names\n",
      "  warnings.warn(\n"
     ]
    }
   ],
   "source": [
    "from sklearn.decomposition import PCA\n",
    "\n",
    "pca = PCA(n_components = 8)\n",
    "\n",
    "xs_tr = pca.fit_transform(x_tr)\n",
    "xs_test = pca.transform(x_test)"
   ]
  },
  {
   "cell_type": "code",
   "execution_count": 21,
   "id": "10b581a8",
   "metadata": {},
   "outputs": [],
   "source": [
    "nqubits = 8\n",
    "dev = qml.device(\"lightning.qubit\", wires=nqubits)\n",
    "\n",
    "@qml.qnode(dev)\n",
    "def kernel_circ(a, b):\n",
    "    qml.AngleEmbedding(a, wires=range(nqubits))\n",
    "    qml.adjoint(qml.AngleEmbedding(b, wires=range(nqubits)))\n",
    "    return qml.probs(wires = range(nqubits))"
   ]
  },
  {
   "cell_type": "code",
   "execution_count": 25,
   "id": "5ed38d41",
   "metadata": {},
   "outputs": [
    {
     "name": "stdout",
     "output_type": "stream",
     "text": [
      "(614, 8) (154,)\n"
     ]
    }
   ],
   "source": [
    "print(x_tr.shape, y_test.shape)"
   ]
  },
  {
   "cell_type": "code",
   "execution_count": 27,
   "id": "9a78dad1",
   "metadata": {},
   "outputs": [
    {
     "name": "stdout",
     "output_type": "stream",
     "text": [
      "0.7077922077922078\n"
     ]
    }
   ],
   "source": [
    "svm = SVC(kernel = qkernel).fit(x_tr, y_train)\n",
    "\n",
    "print(accuracy_score(svm.predict(x_te), y_test))"
   ]
  },
  {
   "cell_type": "code",
   "execution_count": 28,
   "id": "b314c107",
   "metadata": {},
   "outputs": [],
   "source": [
    "from itertools import combinations\n",
    "\n",
    "def ZZFeatureMap(nqubits, data):\n",
    "\n",
    "    # Number of variables that we will load:\n",
    "    # could be smaller than the number of qubits.\n",
    "    nload = min(len(data), nqubits) \n",
    "\n",
    "    for i in range(nload):\n",
    "        qml.Hadamard(i)\n",
    "        qml.RZ(2.0 * data[i], wires = i)\n",
    "\n",
    "    for pair in list(combinations(range(nload), 2)):\n",
    "        q0 = pair[0]\n",
    "        q1 = pair[1]\n",
    "\n",
    "        qml.CZ(wires = [q0, q1])\n",
    "        qml.RZ(2.0 * (np.pi - data[q0]) *\n",
    "            (np.pi - data[q1]), wires = q1)\n",
    "        qml.CZ(wires = [q0, q1])"
   ]
  },
  {
   "cell_type": "code",
   "execution_count": 31,
   "id": "eb92983b",
   "metadata": {},
   "outputs": [
    {
     "name": "stdout",
     "output_type": "stream",
     "text": [
      "0.6298701298701299\n"
     ]
    }
   ],
   "source": [
    "nqubits = 4\n",
    "dev = qml.device(\"lightning.qubit\", wires = nqubits)\n",
    "\n",
    "@qml.qnode(dev)\n",
    "def kernel_circ(a, b):\n",
    "    ZZFeatureMap(nqubits, a)\n",
    "    qml.adjoint(ZZFeatureMap)(nqubits, b)\n",
    "    return qml.probs(wires = range(nqubits))\n",
    "\n",
    "svm = SVC(kernel=qkernel).fit(x_tr, y_train)\n",
    "print(accuracy_score(svm.predict(x_te), y_test))"
   ]
  },
  {
   "cell_type": "code",
   "execution_count": 32,
   "id": "9ee2d603",
   "metadata": {},
   "outputs": [],
   "source": [
    "from sklearn.metrics import accuracy_score"
   ]
  },
  {
   "cell_type": "code",
   "execution_count": 33,
   "id": "41e0f0b7",
   "metadata": {},
   "outputs": [
    {
     "name": "stdout",
     "output_type": "stream",
     "text": [
      "1.2.4\n"
     ]
    }
   ],
   "source": [
    "from qiskit import *\n",
    "import qiskit\n",
    "print(qiskit.__version__)"
   ]
  },
  {
   "cell_type": "code",
   "execution_count": 34,
   "id": "a6e31c97",
   "metadata": {},
   "outputs": [
    {
     "data": {
      "text/plain": [
       "<qiskit.circuit.instructionset.InstructionSet at 0x25a63063b80>"
      ]
     },
     "execution_count": 34,
     "metadata": {},
     "output_type": "execute_result"
    }
   ],
   "source": [
    "from qiskit.circuit import Parameter\n",
    "parameter = Parameter(\"x\")\n",
    "qc = QuantumCircuit(1)\n",
    "qc.rx(parameter, 0)"
   ]
  },
  {
   "cell_type": "code",
   "execution_count": 35,
   "id": "f55ce42b",
   "metadata": {},
   "outputs": [
    {
     "data": {
      "text/plain": [
       "<qiskit.circuit.instructionset.InstructionSet at 0x25a62d19750>"
      ]
     },
     "execution_count": 35,
     "metadata": {},
     "output_type": "execute_result"
    }
   ],
   "source": [
    "from qiskit.circuit import ParameterVector\n",
    "parameter = ParameterVector(\"x\", length = 2)\n",
    "qc = QuantumCircuit(2)\n",
    "qc.rx(parameter[0], 0)\n",
    "qc.rx(parameter[1], 1)"
   ]
  },
  {
   "cell_type": "code",
   "execution_count": 36,
   "id": "9d7fe08f",
   "metadata": {},
   "outputs": [],
   "source": [
    "from qiskit.circuit.library import ZZFeatureMap #Update\n",
    "#from qiskit.circuit.library import zz_feature_map #Update\n",
    "\n",
    "zzfm = ZZFeatureMap(8)"
   ]
  },
  {
   "cell_type": "code",
   "execution_count": 37,
   "id": "8d1132e4",
   "metadata": {},
   "outputs": [
    {
     "name": "stdout",
     "output_type": "stream",
     "text": [
      "0.8.3\n"
     ]
    }
   ],
   "source": [
    "from qiskit.circuit.library import ZZFeatureMap\n",
    "from qiskit.primitives import StatevectorSampler as Sampler\n",
    "import qiskit_machine_learning\n",
    "from qiskit_machine_learning.state_fidelities import ComputeUncompute\n",
    "from qiskit_machine_learning.kernels import FidelityQuantumKernel\n",
    "print(qiskit_machine_learning.__version__)"
   ]
  },
  {
   "cell_type": "code",
   "execution_count": 38,
   "id": "8807d145",
   "metadata": {},
   "outputs": [],
   "source": [
    "from qiskit_machine_learning.kernels import FidelityQuantumKernel\n",
    "from qiskit_aer import AerSimulator\n",
    "\n",
    "sampler = Sampler()\n",
    "fidelity_object = ComputeUncompute(sampler=sampler)\n",
    "\n",
    "qkernel = FidelityQuantumKernel(feature_map = zzfm, fidelity = fidelity_object) #update"
   ]
  },
  {
   "cell_type": "code",
   "execution_count": null,
   "id": "021b107e",
   "metadata": {},
   "outputs": [],
   "source": [
    "from qiskit_machine_learning.algorithms import QSVC\n",
    "\n",
    "qsvm = QSVC(quantum_kernel = qkernel, C=10)\n",
    "qsvm.fit(x_tr, y_train)"
   ]
  },
  {
   "cell_type": "code",
   "execution_count": null,
   "id": "82d4154d",
   "metadata": {},
   "outputs": [
    {
     "name": "stdout",
     "output_type": "stream",
     "text": [
      "0.46153846153846156\n"
     ]
    }
   ],
   "source": [
    "print(accuracy_score(qsvm.predict(x_te), y_test))"
   ]
  },
  {
   "cell_type": "markdown",
   "id": "9ed76351-6ed9-4fca-9c62-51e2c79d61cc",
   "metadata": {
    "id": "VW0v33UbgyYD"
   },
   "source": [
    "*Note*: In the following cell, you need to replace \"1234\" with your actual IBM token. Refer to *Appendix D* in the book for instructions on how to create an account and get your token. Be very careful not to disclose your token to anyone!"
   ]
  },
  {
   "cell_type": "code",
   "execution_count": 54,
   "id": "22a8ec95-0f23-491b-bc4a-7be3f4741edf",
   "metadata": {
    "id": "UOakFM20hl09",
    "tags": []
   },
   "outputs": [
    {
     "ename": "NameError",
     "evalue": "name 'IBMQ' is not defined",
     "output_type": "error",
     "traceback": [
      "\u001b[31m---------------------------------------------------------------------------\u001b[39m",
      "\u001b[31mNameError\u001b[39m                                 Traceback (most recent call last)",
      "\u001b[36mCell\u001b[39m\u001b[36m \u001b[39m\u001b[32mIn[54]\u001b[39m\u001b[32m, line 2\u001b[39m\n\u001b[32m      1\u001b[39m ibm_token = \u001b[33m\"\u001b[39m\u001b[33m1234\u001b[39m\u001b[33m\"\u001b[39m\n\u001b[32m----> \u001b[39m\u001b[32m2\u001b[39m \u001b[43mIBMQ\u001b[49m.save_account(ibm_token)\n",
      "\u001b[31mNameError\u001b[39m: name 'IBMQ' is not defined"
     ]
    }
   ],
   "source": [
    "ibm_token = \"1234\"\n",
    "IBMQ.save_account(ibm_token)"
   ]
  },
  {
   "cell_type": "code",
   "execution_count": null,
   "id": "af1955cb",
   "metadata": {},
   "outputs": [],
   "source": [
    "provider = IBMQ.load_account()"
   ]
  },
  {
   "cell_type": "code",
   "execution_count": null,
   "id": "bba6e6e8",
   "metadata": {},
   "outputs": [],
   "source": [
    "from qiskit.providers.ibmq import *\n",
    "\n",
    "dev_list = provider.backends(\n",
    "    filters = lambda x: x.configuration().n_qubits >= 7,\n",
    "    simulator = False)\n",
    "dev = least_busy(dev_list)"
   ]
  },
  {
   "cell_type": "code",
   "execution_count": null,
   "id": "5a483deb",
   "metadata": {},
   "outputs": [],
   "source": [
    "from sklearn.decomposition import PCA\n",
    "\n",
    "pca = PCA(n_components = 7)\n",
    "\n",
    "xss_tr = pca.fit_transform(x_tr)\n",
    "\n",
    "xss_test = pca.transform(x_test)"
   ]
  },
  {
   "cell_type": "code",
   "execution_count": null,
   "id": "49e1df3d",
   "metadata": {},
   "outputs": [],
   "source": [
    "zzfm = ZZFeatureMap(7)\n",
    "qkernel = QuantumKernel(feature_map = zzfm, quantum_instance = dev)\n",
    "qsvm = QSVC(quantum_kernel = qkernel)\n",
    "qsvm.fit(xss_tr, y_tr)"
   ]
  }
 ],
 "metadata": {
  "kernelspec": {
   "display_name": "qiskit",
   "language": "python",
   "name": "python3"
  },
  "language_info": {
   "codemirror_mode": {
    "name": "ipython",
    "version": 3
   },
   "file_extension": ".py",
   "mimetype": "text/x-python",
   "name": "python",
   "nbconvert_exporter": "python",
   "pygments_lexer": "ipython3",
   "version": "3.12.9"
  }
 },
 "nbformat": 4,
 "nbformat_minor": 5
}
