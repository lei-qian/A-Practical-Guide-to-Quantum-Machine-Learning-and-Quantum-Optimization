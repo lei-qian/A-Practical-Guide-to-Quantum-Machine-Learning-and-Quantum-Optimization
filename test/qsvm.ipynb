{
 "cells": [
  {
   "cell_type": "code",
   "execution_count": null,
   "id": "3d50ac25",
   "metadata": {},
   "outputs": [],
   "source": [
    "import numpy as np\n",
    "import pandas as pd\n",
    "from sklearn.model_selection import train_test_split\n",
    "from sklearn.preprocessing import StandardScaler, MinMaxScaler\n",
    "from sklearn.svm import SVC\n",
    "from sklearn.metrics import accuracy_score, classification_report\n",
    "import matplotlib.pyplot as plt\n"
   ]
  },
  {
   "cell_type": "code",
   "execution_count": 2,
   "id": "80ec281a",
   "metadata": {},
   "outputs": [],
   "source": [
    "\n",
    "# Qiskit imports\n",
    "from qiskit import QuantumCircuit, transpile\n",
    "from qiskit.circuit.library import ZZFeatureMap, TwoLocal\n",
    "from qiskit_machine_learning.algorithms import VQC, QSVC\n",
    "from qiskit_machine_learning.kernels import FidelityQuantumKernel\n",
    "from qiskit_ibm_runtime import QiskitRuntimeService, Sampler, Session\n",
    "from qiskit.primitives import StatevectorSampler\n",
    "from qiskit_algorithms.state_fidelities import ComputeUncompute"
   ]
  },
  {
   "cell_type": "code",
   "execution_count": 9,
   "id": "74134d55",
   "metadata": {},
   "outputs": [],
   "source": [
    "# For local simulation\n",
    "from qiskit_aer import AerSimulator"
   ]
  },
  {
   "cell_type": "markdown",
   "id": "6391eab5",
   "metadata": {},
   "source": [
    "## Load Pima Indian Dataset"
   ]
  },
  {
   "cell_type": "code",
   "execution_count": 10,
   "id": "319f7aef",
   "metadata": {},
   "outputs": [
    {
     "data": {
      "application/vnd.microsoft.datawrangler.viewer.v0+json": {
       "columns": [
        {
         "name": "index",
         "rawType": "int64",
         "type": "integer"
        },
        {
         "name": "Pregnancies",
         "rawType": "int64",
         "type": "integer"
        },
        {
         "name": "Glucose",
         "rawType": "int64",
         "type": "integer"
        },
        {
         "name": "BloodPressure",
         "rawType": "int64",
         "type": "integer"
        },
        {
         "name": "SkinThickness",
         "rawType": "int64",
         "type": "integer"
        },
        {
         "name": "Insulin",
         "rawType": "int64",
         "type": "integer"
        },
        {
         "name": "BMI",
         "rawType": "float64",
         "type": "float"
        },
        {
         "name": "DiabetesPedigreeFunction",
         "rawType": "float64",
         "type": "float"
        },
        {
         "name": "Age",
         "rawType": "int64",
         "type": "integer"
        },
        {
         "name": "Outcome",
         "rawType": "int64",
         "type": "integer"
        }
       ],
       "ref": "f4f8143e-49fd-4b17-a8a8-257e2f2391df",
       "rows": [
        [
         "0",
         "6",
         "148",
         "72",
         "35",
         "0",
         "33.6",
         "0.627",
         "50",
         "1"
        ],
        [
         "1",
         "1",
         "85",
         "66",
         "29",
         "0",
         "26.6",
         "0.351",
         "31",
         "0"
        ],
        [
         "2",
         "8",
         "183",
         "64",
         "0",
         "0",
         "23.3",
         "0.672",
         "32",
         "1"
        ],
        [
         "3",
         "1",
         "89",
         "66",
         "23",
         "94",
         "28.1",
         "0.167",
         "21",
         "0"
        ],
        [
         "4",
         "0",
         "137",
         "40",
         "35",
         "168",
         "43.1",
         "2.288",
         "33",
         "1"
        ]
       ],
       "shape": {
        "columns": 9,
        "rows": 5
       }
      },
      "text/html": [
       "<div>\n",
       "<style scoped>\n",
       "    .dataframe tbody tr th:only-of-type {\n",
       "        vertical-align: middle;\n",
       "    }\n",
       "\n",
       "    .dataframe tbody tr th {\n",
       "        vertical-align: top;\n",
       "    }\n",
       "\n",
       "    .dataframe thead th {\n",
       "        text-align: right;\n",
       "    }\n",
       "</style>\n",
       "<table border=\"1\" class=\"dataframe\">\n",
       "  <thead>\n",
       "    <tr style=\"text-align: right;\">\n",
       "      <th></th>\n",
       "      <th>Pregnancies</th>\n",
       "      <th>Glucose</th>\n",
       "      <th>BloodPressure</th>\n",
       "      <th>SkinThickness</th>\n",
       "      <th>Insulin</th>\n",
       "      <th>BMI</th>\n",
       "      <th>DiabetesPedigreeFunction</th>\n",
       "      <th>Age</th>\n",
       "      <th>Outcome</th>\n",
       "    </tr>\n",
       "  </thead>\n",
       "  <tbody>\n",
       "    <tr>\n",
       "      <th>0</th>\n",
       "      <td>6</td>\n",
       "      <td>148</td>\n",
       "      <td>72</td>\n",
       "      <td>35</td>\n",
       "      <td>0</td>\n",
       "      <td>33.6</td>\n",
       "      <td>0.627</td>\n",
       "      <td>50</td>\n",
       "      <td>1</td>\n",
       "    </tr>\n",
       "    <tr>\n",
       "      <th>1</th>\n",
       "      <td>1</td>\n",
       "      <td>85</td>\n",
       "      <td>66</td>\n",
       "      <td>29</td>\n",
       "      <td>0</td>\n",
       "      <td>26.6</td>\n",
       "      <td>0.351</td>\n",
       "      <td>31</td>\n",
       "      <td>0</td>\n",
       "    </tr>\n",
       "    <tr>\n",
       "      <th>2</th>\n",
       "      <td>8</td>\n",
       "      <td>183</td>\n",
       "      <td>64</td>\n",
       "      <td>0</td>\n",
       "      <td>0</td>\n",
       "      <td>23.3</td>\n",
       "      <td>0.672</td>\n",
       "      <td>32</td>\n",
       "      <td>1</td>\n",
       "    </tr>\n",
       "    <tr>\n",
       "      <th>3</th>\n",
       "      <td>1</td>\n",
       "      <td>89</td>\n",
       "      <td>66</td>\n",
       "      <td>23</td>\n",
       "      <td>94</td>\n",
       "      <td>28.1</td>\n",
       "      <td>0.167</td>\n",
       "      <td>21</td>\n",
       "      <td>0</td>\n",
       "    </tr>\n",
       "    <tr>\n",
       "      <th>4</th>\n",
       "      <td>0</td>\n",
       "      <td>137</td>\n",
       "      <td>40</td>\n",
       "      <td>35</td>\n",
       "      <td>168</td>\n",
       "      <td>43.1</td>\n",
       "      <td>2.288</td>\n",
       "      <td>33</td>\n",
       "      <td>1</td>\n",
       "    </tr>\n",
       "  </tbody>\n",
       "</table>\n",
       "</div>"
      ],
      "text/plain": [
       "   Pregnancies  Glucose  BloodPressure  SkinThickness  Insulin   BMI  \\\n",
       "0            6      148             72             35        0  33.6   \n",
       "1            1       85             66             29        0  26.6   \n",
       "2            8      183             64              0        0  23.3   \n",
       "3            1       89             66             23       94  28.1   \n",
       "4            0      137             40             35      168  43.1   \n",
       "\n",
       "   DiabetesPedigreeFunction  Age  Outcome  \n",
       "0                     0.627   50        1  \n",
       "1                     0.351   31        0  \n",
       "2                     0.672   32        1  \n",
       "3                     0.167   21        0  \n",
       "4                     2.288   33        1  "
      ]
     },
     "execution_count": 10,
     "metadata": {},
     "output_type": "execute_result"
    }
   ],
   "source": [
    "df = pd.read_csv(\"diabetes.csv\")\n",
    "df.head()"
   ]
  },
  {
   "cell_type": "code",
   "execution_count": 11,
   "id": "f008ce21",
   "metadata": {},
   "outputs": [
    {
     "name": "stdout",
     "output_type": "stream",
     "text": [
      "(576, 8) (192, 8)\n"
     ]
    }
   ],
   "source": [
    "data = df.to_numpy()\n",
    "X = data[:, :-1]  # Use first 8 features to match Pima structure\n",
    "y = data[:,-1]\n",
    "\n",
    "X_train, X_test, y_train, y_test = train_test_split(X, y, test_size=0.25)\n",
    "\n",
    "# Scale to match Pima-like ranges\n",
    "scaler = StandardScaler()\n",
    "X_train_scaled = scaler.fit_transform(X_train)\n",
    "X_test_scaled = scaler.transform(X_test)\n",
    "print(X_train.shape, X_test.shape)\n"
   ]
  },
  {
   "cell_type": "markdown",
   "id": "3a05c507",
   "metadata": {},
   "source": [
    "## Use PCA to select most significant features"
   ]
  },
  {
   "cell_type": "code",
   "execution_count": 12,
   "id": "2f82cdaf",
   "metadata": {},
   "outputs": [],
   "source": [
    "from sklearn.decomposition import PCA\n",
    "\n",
    "pca = PCA()\n",
    "\n",
    "X_train_pca = pca.fit_transform(X_train_scaled)\n",
    "X_test_pca = pca.transform(X_test_scaled)"
   ]
  },
  {
   "cell_type": "markdown",
   "id": "10be0bc6",
   "metadata": {},
   "source": [
    "## Run classical SVM for comparison"
   ]
  },
  {
   "cell_type": "code",
   "execution_count": 13,
   "id": "1b96c015",
   "metadata": {},
   "outputs": [
    {
     "name": "stdout",
     "output_type": "stream",
     "text": [
      "Running Classical SVM...\n",
      "Classical SVM Accuracy on Training Data:  0.786\n",
      "Classical SVM Accuracy on Test Data: 0.688\n"
     ]
    }
   ],
   "source": [
    "n_features = 4\n",
    "\n",
    "print(\"Running Classical SVM...\")\n",
    "\n",
    "# Train classical SVM\n",
    "classical_svm = SVC(kernel='rbf', C=1.0, random_state=1)\n",
    "classical_svm.fit(X_train_pca[:,:n_features], y_train)\n",
    "\n",
    "y_pred_train_classical = classical_svm.predict(X_train_pca[:, :n_features])\n",
    "accuracy_train_classical = accuracy_score(y_train, y_pred_train_classical)\n",
    "# Predict and evaluate\n",
    "y_pred_classical = classical_svm.predict(X_test_pca[:,:n_features])\n",
    "accuracy_classical = accuracy_score(y_test, y_pred_classical)\n",
    "\n",
    "print(f\"Classical SVM Accuracy on Training Data: {accuracy_train_classical: .3f}\")\n",
    "print(f\"Classical SVM Accuracy on Test Data: {accuracy_classical:.3f}\")\n"
   ]
  },
  {
   "cell_type": "markdown",
   "id": "034d270d",
   "metadata": {},
   "source": [
    "## Set Up IBM Quantum\n",
    "\n",
    "Setup IBM Quantum Cloud connection using qiskit-ibm-runtime"
   ]
  },
  {
   "cell_type": "code",
   "execution_count": 28,
   "id": "05067b6e",
   "metadata": {},
   "outputs": [
    {
     "name": "stdout",
     "output_type": "stream",
     "text": [
      "\n",
      "Setting up quantum backend...\n",
      "Available quantum backends:\n",
      "  - ibm_brisbane: 127 qubits\n",
      "  - ibm_torino: 133 qubits\n",
      "\n",
      "Selected backend: ibm_brisbane\n"
     ]
    }
   ],
   "source": [
    "print(\"\\nSetting up quantum backend...\")\n",
    "\n",
    "token = \"VMgmA9Gjyklr5uAIq8S6FYXrmKvoVN3QLo714I6KjRBA\"\n",
    "instance_id = \"QML\"\n",
    "\n",
    "service = QiskitRuntimeService(channel=\"ibm_cloud\", token=token, instance=instance_id)\n",
    "\n",
    "# Get available backends\n",
    "backends = service.backends(simulator=False, operational=True)\n",
    "print(\"Available quantum backends:\")\n",
    "for backend in backends:\n",
    "    print(f\"  - {backend.name}: {backend.num_qubits} qubits\")\n",
    "\n",
    "# Select least busy real quantum computer\n",
    "if backends:\n",
    "    backend = service.least_busy(operational=True, simulator=False)\n",
    "    print(f\"\\nSelected backend: {backend.name}\")\n",
    "else:\n",
    "    print(\"No quantum backends available, using simulator\")\n",
    "    backend = service.backend('ibmq_qasm_simulator')\n",
    "    \n"
   ]
  },
  {
   "cell_type": "markdown",
   "id": "3d024387",
   "metadata": {},
   "source": [
    "## Create quantum kernel for QSVM"
   ]
  },
  {
   "cell_type": "code",
   "execution_count": 29,
   "id": "45f0ac11",
   "metadata": {},
   "outputs": [
    {
     "name": "stdout",
     "output_type": "stream",
     "text": [
      "0.8.3\n"
     ]
    }
   ],
   "source": [
    "import qiskit_machine_learning\n",
    "print(qiskit_machine_learning.__version__)"
   ]
  },
  {
   "cell_type": "code",
   "execution_count": 30,
   "id": "5ad90835",
   "metadata": {},
   "outputs": [],
   "source": [
    "# Feature map - encodes classical data into quantum states\n",
    "feature_map = ZZFeatureMap(feature_dimension=n_features, \n",
    "                            reps=4, \n",
    "                            entanglement='linear')\n",
    "\n"
   ]
  },
  {
   "cell_type": "code",
   "execution_count": 31,
   "id": "f8eb7c4b",
   "metadata": {},
   "outputs": [
    {
     "name": "stderr",
     "output_type": "stream",
     "text": [
      "C:\\Users\\leqian\\AppData\\Local\\Temp\\ipykernel_14852\\2841231180.py:5: DeprecationWarning: The class ``qiskit.primitives.backend_sampler.BackendSampler`` is deprecated as of qiskit 1.2. It will be removed no earlier than 3 months after the release date. All implementations of the `BaseSamplerV1` interface have been deprecated in favor of their V2 counterparts. The V2 alternative for the `BackendSampler` class is `BackendSamplerV2`.\n",
      "  sampler = BackendSampler(backend)\n"
     ]
    }
   ],
   "source": [
    "from qiskit.primitives import BackendSampler\n",
    "# Create a sampler with the Brisbane backend\n",
    "\n",
    "# Create a V1 compatible sampler\n",
    "sampler = BackendSampler(backend)\n",
    "\n",
    "# Create fidelity and kernel\n",
    "fidelity = ComputeUncompute(sampler=sampler)\n",
    "\n",
    "quantum_kernel = FidelityQuantumKernel(feature_map=feature_map, fidelity=fidelity)\n"
   ]
  },
  {
   "cell_type": "markdown",
   "id": "eb426264",
   "metadata": {},
   "source": [
    "## Run Quantum SVM"
   ]
  },
  {
   "cell_type": "code",
   "execution_count": null,
   "id": "fd82ea2e",
   "metadata": {},
   "outputs": [
    {
     "name": "stdout",
     "output_type": "stream",
     "text": [
      "Running Quantum SVM...\n",
      "Training quantum model...\n"
     ]
    },
    {
     "ename": "AlgorithmError",
     "evalue": "'Sampler job failed!'",
     "output_type": "error",
     "traceback": [
      "\u001b[31m---------------------------------------------------------------------------\u001b[39m",
      "\u001b[31mHTTPError\u001b[39m                                 Traceback (most recent call last)",
      "\u001b[36mFile \u001b[39m\u001b[32mc:\\Users\\leqian\\anaconda3\\envs\\qiskit\\Lib\\site-packages\\qiskit_ibm_runtime\\api\\session.py:329\u001b[39m, in \u001b[36mRetrySession.request\u001b[39m\u001b[34m(self, method, url, bare, **kwargs)\u001b[39m\n\u001b[32m    328\u001b[39m     response = \u001b[38;5;28msuper\u001b[39m().request(method, final_url, headers=headers, **kwargs)\n\u001b[32m--> \u001b[39m\u001b[32m329\u001b[39m     response.raise_for_status()\n\u001b[32m    330\u001b[39m \u001b[38;5;28;01mexcept\u001b[39;00m RequestException \u001b[38;5;28;01mas\u001b[39;00m ex:\n\u001b[32m    331\u001b[39m     \u001b[38;5;66;03m# Wrap the requests exceptions into a IBM Q custom one, for\u001b[39;00m\n\u001b[32m    332\u001b[39m     \u001b[38;5;66;03m# compatibility.\u001b[39;00m\n",
      "\u001b[36mFile \u001b[39m\u001b[32mc:\\Users\\leqian\\anaconda3\\envs\\qiskit\\Lib\\site-packages\\requests\\models.py:1024\u001b[39m, in \u001b[36mResponse.raise_for_status\u001b[39m\u001b[34m(self)\u001b[39m\n\u001b[32m   1023\u001b[39m \u001b[38;5;28;01mif\u001b[39;00m http_error_msg:\n\u001b[32m-> \u001b[39m\u001b[32m1024\u001b[39m     \u001b[38;5;28;01mraise\u001b[39;00m HTTPError(http_error_msg, response=\u001b[38;5;28mself\u001b[39m)\n",
      "\u001b[31mHTTPError\u001b[39m: 404 Client Error: Not Found for url: https://us-east.quantum-computing.cloud.ibm.com/jobs",
      "\nThe above exception was the direct cause of the following exception:\n",
      "\u001b[31mRequestsApiError\u001b[39m                          Traceback (most recent call last)",
      "\u001b[36mFile \u001b[39m\u001b[32mc:\\Users\\leqian\\anaconda3\\envs\\qiskit\\Lib\\site-packages\\qiskit_ibm_runtime\\ibm_backend.py:795\u001b[39m, in \u001b[36mIBMBackend._runtime_run\u001b[39m\u001b[34m(self, program_id, inputs, backend_name, job_tags, image)\u001b[39m\n\u001b[32m    794\u001b[39m \u001b[38;5;28;01mtry\u001b[39;00m:\n\u001b[32m--> \u001b[39m\u001b[32m795\u001b[39m     response = \u001b[38;5;28mself\u001b[39m._api_client.program_run(\n\u001b[32m    796\u001b[39m         program_id=program_id,\n\u001b[32m    797\u001b[39m         backend_name=backend_name,\n\u001b[32m    798\u001b[39m         params=inputs,\n\u001b[32m    799\u001b[39m         hgp=hgp_name,\n\u001b[32m    800\u001b[39m         log_level=log_level,\n\u001b[32m    801\u001b[39m         job_tags=job_tags,\n\u001b[32m    802\u001b[39m         session_id=session_id,\n\u001b[32m    803\u001b[39m         start_session=\u001b[38;5;28;01mFalse\u001b[39;00m,\n\u001b[32m    804\u001b[39m         image=image,\n\u001b[32m    805\u001b[39m     )\n\u001b[32m    806\u001b[39m \u001b[38;5;28;01mexcept\u001b[39;00m RequestsApiError \u001b[38;5;28;01mas\u001b[39;00m ex:\n",
      "\u001b[36mFile \u001b[39m\u001b[32mc:\\Users\\leqian\\anaconda3\\envs\\qiskit\\Lib\\site-packages\\qiskit_ibm_runtime\\api\\clients\\runtime.py:90\u001b[39m, in \u001b[36mRuntimeClient.program_run\u001b[39m\u001b[34m(self, program_id, backend_name, params, image, hgp, log_level, session_id, job_tags, max_execution_time, start_session, session_time, private, channel_strategy)\u001b[39m\n\u001b[32m     89\u001b[39m     hgp_dict = {\u001b[33m\"\u001b[39m\u001b[33mhub\u001b[39m\u001b[33m\"\u001b[39m: hub, \u001b[33m\"\u001b[39m\u001b[33mgroup\u001b[39m\u001b[33m\"\u001b[39m: group, \u001b[33m\"\u001b[39m\u001b[33mproject\u001b[39m\u001b[33m\"\u001b[39m: project}\n\u001b[32m---> \u001b[39m\u001b[32m90\u001b[39m \u001b[38;5;28;01mreturn\u001b[39;00m \u001b[38;5;28mself\u001b[39m._api.program_run(\n\u001b[32m     91\u001b[39m     program_id=program_id,\n\u001b[32m     92\u001b[39m     backend_name=backend_name,\n\u001b[32m     93\u001b[39m     params=params,\n\u001b[32m     94\u001b[39m     image=image,\n\u001b[32m     95\u001b[39m     log_level=log_level,\n\u001b[32m     96\u001b[39m     session_id=session_id,\n\u001b[32m     97\u001b[39m     job_tags=job_tags,\n\u001b[32m     98\u001b[39m     max_execution_time=max_execution_time,\n\u001b[32m     99\u001b[39m     start_session=start_session,\n\u001b[32m    100\u001b[39m     session_time=session_time,\n\u001b[32m    101\u001b[39m     private=private,\n\u001b[32m    102\u001b[39m     channel_strategy=channel_strategy,\n\u001b[32m    103\u001b[39m     **hgp_dict,\n\u001b[32m    104\u001b[39m )\n",
      "\u001b[36mFile \u001b[39m\u001b[32mc:\\Users\\leqian\\anaconda3\\envs\\qiskit\\Lib\\site-packages\\qiskit_ibm_runtime\\api\\rest\\runtime.py:133\u001b[39m, in \u001b[36mRuntime.program_run\u001b[39m\u001b[34m(self, program_id, backend_name, params, image, hub, group, project, log_level, session_id, job_tags, max_execution_time, start_session, session_time, private, channel_strategy)\u001b[39m\n\u001b[32m    132\u001b[39m data = json.dumps(payload, \u001b[38;5;28mcls\u001b[39m=RuntimeEncoder)\n\u001b[32m--> \u001b[39m\u001b[32m133\u001b[39m \u001b[38;5;28;01mreturn\u001b[39;00m \u001b[38;5;28mself\u001b[39m.session.post(url, data=data, timeout=\u001b[32m900\u001b[39m).json()\n",
      "\u001b[36mFile \u001b[39m\u001b[32mc:\\Users\\leqian\\anaconda3\\envs\\qiskit\\Lib\\site-packages\\requests\\sessions.py:637\u001b[39m, in \u001b[36mSession.post\u001b[39m\u001b[34m(self, url, data, json, **kwargs)\u001b[39m\n\u001b[32m    627\u001b[39m \u001b[38;5;250m\u001b[39m\u001b[33mr\u001b[39m\u001b[33;03m\"\"\"Sends a POST request. Returns :class:`Response` object.\u001b[39;00m\n\u001b[32m    628\u001b[39m \n\u001b[32m    629\u001b[39m \u001b[33;03m:param url: URL for the new :class:`Request` object.\u001b[39;00m\n\u001b[32m   (...)\u001b[39m\u001b[32m    634\u001b[39m \u001b[33;03m:rtype: requests.Response\u001b[39;00m\n\u001b[32m    635\u001b[39m \u001b[33;03m\"\"\"\u001b[39;00m\n\u001b[32m--> \u001b[39m\u001b[32m637\u001b[39m \u001b[38;5;28;01mreturn\u001b[39;00m \u001b[38;5;28mself\u001b[39m.request(\u001b[33m\"\u001b[39m\u001b[33mPOST\u001b[39m\u001b[33m\"\u001b[39m, url, data=data, json=json, **kwargs)\n",
      "\u001b[36mFile \u001b[39m\u001b[32mc:\\Users\\leqian\\anaconda3\\envs\\qiskit\\Lib\\site-packages\\qiskit_ibm_runtime\\api\\session.py:351\u001b[39m, in \u001b[36mRetrySession.request\u001b[39m\u001b[34m(self, method, url, bare, **kwargs)\u001b[39m\n\u001b[32m    350\u001b[39m         \u001b[38;5;28;01mraise\u001b[39;00m IBMNotAuthorizedError(message) \u001b[38;5;28;01mfrom\u001b[39;00m\u001b[38;5;250m \u001b[39m\u001b[34;01mex\u001b[39;00m\n\u001b[32m--> \u001b[39m\u001b[32m351\u001b[39m     \u001b[38;5;28;01mraise\u001b[39;00m RequestsApiError(message, status_code) \u001b[38;5;28;01mfrom\u001b[39;00m\u001b[38;5;250m \u001b[39m\u001b[34;01mex\u001b[39;00m\n\u001b[32m    353\u001b[39m \u001b[38;5;28;01mreturn\u001b[39;00m response\n",
      "\u001b[31mRequestsApiError\u001b[39m: '404 Client Error: Not Found for url: https://us-east.quantum-computing.cloud.ibm.com/jobs. {\"errors\":[{\"code\":1211,\"message\":\"Program not found.\",\"solution\":\"Make sure you use a valid program name, such as \\'sampler\\' or \\'estimator\\'. Qiskit Runtime no longer supports the \\'backend.run\\' interface. Refer to the `Migration guide <https://docs.quantum.ibm.com/migration-guides/qiskit-runtime>` __ for instructions to migrate to the primitives.\",\"more_info\":\"https://cloud.ibm.com/apidocs/quantum-computing#error-handling\"}],\"trace\":\"57782df3-4b8e-4731-8d38-027b0b80d425\"}\\n'",
      "\nThe above exception was the direct cause of the following exception:\n",
      "\u001b[31mIBMBackendApiError\u001b[39m                        Traceback (most recent call last)",
      "\u001b[36mFile \u001b[39m\u001b[32mc:\\Users\\leqian\\anaconda3\\envs\\qiskit\\Lib\\site-packages\\qiskit_algorithms\\state_fidelities\\compute_uncompute.py:170\u001b[39m, in \u001b[36mComputeUncompute._call\u001b[39m\u001b[34m(job, circuits, local, local_opts)\u001b[39m\n\u001b[32m    169\u001b[39m \u001b[38;5;28;01mtry\u001b[39;00m:\n\u001b[32m--> \u001b[39m\u001b[32m170\u001b[39m     result = job.result()\n\u001b[32m    171\u001b[39m \u001b[38;5;28;01mexcept\u001b[39;00m \u001b[38;5;167;01mException\u001b[39;00m \u001b[38;5;28;01mas\u001b[39;00m exc:\n",
      "\u001b[36mFile \u001b[39m\u001b[32mc:\\Users\\leqian\\anaconda3\\envs\\qiskit\\Lib\\site-packages\\qiskit\\primitives\\primitive_job.py:51\u001b[39m, in \u001b[36mPrimitiveJob.result\u001b[39m\u001b[34m(self)\u001b[39m\n\u001b[32m     50\u001b[39m \u001b[38;5;28mself\u001b[39m._check_submitted()\n\u001b[32m---> \u001b[39m\u001b[32m51\u001b[39m \u001b[38;5;28;01mreturn\u001b[39;00m \u001b[38;5;28mself\u001b[39m._future.result()\n",
      "\u001b[36mFile \u001b[39m\u001b[32mc:\\Users\\leqian\\anaconda3\\envs\\qiskit\\Lib\\concurrent\\futures\\_base.py:456\u001b[39m, in \u001b[36mFuture.result\u001b[39m\u001b[34m(self, timeout)\u001b[39m\n\u001b[32m    455\u001b[39m \u001b[38;5;28;01melif\u001b[39;00m \u001b[38;5;28mself\u001b[39m._state == FINISHED:\n\u001b[32m--> \u001b[39m\u001b[32m456\u001b[39m     \u001b[38;5;28;01mreturn\u001b[39;00m \u001b[38;5;28mself\u001b[39m.__get_result()\n\u001b[32m    457\u001b[39m \u001b[38;5;28;01melse\u001b[39;00m:\n",
      "\u001b[36mFile \u001b[39m\u001b[32mc:\\Users\\leqian\\anaconda3\\envs\\qiskit\\Lib\\concurrent\\futures\\_base.py:401\u001b[39m, in \u001b[36mFuture.__get_result\u001b[39m\u001b[34m(self)\u001b[39m\n\u001b[32m    400\u001b[39m \u001b[38;5;28;01mtry\u001b[39;00m:\n\u001b[32m--> \u001b[39m\u001b[32m401\u001b[39m     \u001b[38;5;28;01mraise\u001b[39;00m \u001b[38;5;28mself\u001b[39m._exception\n\u001b[32m    402\u001b[39m \u001b[38;5;28;01mfinally\u001b[39;00m:\n\u001b[32m    403\u001b[39m     \u001b[38;5;66;03m# Break a reference cycle with the exception in self._exception\u001b[39;00m\n",
      "\u001b[36mFile \u001b[39m\u001b[32mc:\\Users\\leqian\\anaconda3\\envs\\qiskit\\Lib\\concurrent\\futures\\thread.py:59\u001b[39m, in \u001b[36m_WorkItem.run\u001b[39m\u001b[34m(self)\u001b[39m\n\u001b[32m     58\u001b[39m \u001b[38;5;28;01mtry\u001b[39;00m:\n\u001b[32m---> \u001b[39m\u001b[32m59\u001b[39m     result = \u001b[38;5;28mself\u001b[39m.fn(*\u001b[38;5;28mself\u001b[39m.args, **\u001b[38;5;28mself\u001b[39m.kwargs)\n\u001b[32m     60\u001b[39m \u001b[38;5;28;01mexcept\u001b[39;00m \u001b[38;5;167;01mBaseException\u001b[39;00m \u001b[38;5;28;01mas\u001b[39;00m exc:\n",
      "\u001b[36mFile \u001b[39m\u001b[32mc:\\Users\\leqian\\anaconda3\\envs\\qiskit\\Lib\\site-packages\\qiskit\\primitives\\backend_sampler.py:162\u001b[39m, in \u001b[36mBackendSampler._call\u001b[39m\u001b[34m(self, circuits, parameter_values, **run_options)\u001b[39m\n\u001b[32m    161\u001b[39m \u001b[38;5;66;03m# Run\u001b[39;00m\n\u001b[32m--> \u001b[39m\u001b[32m162\u001b[39m result, _metadata = _run_circuits(bound_circuits, \u001b[38;5;28mself\u001b[39m._backend, **run_options)\n\u001b[32m    163\u001b[39m \u001b[38;5;28;01mreturn\u001b[39;00m \u001b[38;5;28mself\u001b[39m._postprocessing(result, bound_circuits)\n",
      "\u001b[36mFile \u001b[39m\u001b[32mc:\\Users\\leqian\\anaconda3\\envs\\qiskit\\Lib\\site-packages\\qiskit\\primitives\\backend_estimator.py:72\u001b[39m, in \u001b[36m_run_circuits\u001b[39m\u001b[34m(circuits, backend, **run_options)\u001b[39m\n\u001b[32m     70\u001b[39m \u001b[38;5;28;01mif\u001b[39;00m max_circuits:\n\u001b[32m     71\u001b[39m     jobs = [\n\u001b[32m---> \u001b[39m\u001b[32m72\u001b[39m         backend.run(circuits[pos : pos + max_circuits], **run_options)\n\u001b[32m     73\u001b[39m         \u001b[38;5;28;01mfor\u001b[39;00m pos \u001b[38;5;129;01min\u001b[39;00m \u001b[38;5;28mrange\u001b[39m(\u001b[32m0\u001b[39m, \u001b[38;5;28mlen\u001b[39m(circuits), max_circuits)\n\u001b[32m     74\u001b[39m     ]\n\u001b[32m     75\u001b[39m     result = [x.result() \u001b[38;5;28;01mfor\u001b[39;00m x \u001b[38;5;129;01min\u001b[39;00m jobs]\n",
      "\u001b[36mFile \u001b[39m\u001b[32mc:\\Users\\leqian\\anaconda3\\envs\\qiskit\\Lib\\site-packages\\qiskit_ibm_runtime\\ibm_backend.py:761\u001b[39m, in \u001b[36mIBMBackend.run\u001b[39m\u001b[34m(self, circuits, dynamic, job_tags, init_circuit, init_num_resets, header, shots, memory, meas_level, meas_return, rep_delay, init_qubits, use_measure_esp, noise_model, seed_simulator, **run_config)\u001b[39m\n\u001b[32m    759\u001b[39m run_config_dict[\u001b[33m\"\u001b[39m\u001b[33mcircuits\u001b[39m\u001b[33m\"\u001b[39m] = circuits\n\u001b[32m--> \u001b[39m\u001b[32m761\u001b[39m \u001b[38;5;28;01mreturn\u001b[39;00m \u001b[38;5;28mself\u001b[39m._runtime_run(\n\u001b[32m    762\u001b[39m     program_id=program_id,\n\u001b[32m    763\u001b[39m     inputs=run_config_dict,\n\u001b[32m    764\u001b[39m     backend_name=\u001b[38;5;28mself\u001b[39m.name,\n\u001b[32m    765\u001b[39m     job_tags=job_tags,\n\u001b[32m    766\u001b[39m     image=image,\n\u001b[32m    767\u001b[39m )\n",
      "\u001b[36mFile \u001b[39m\u001b[32mc:\\Users\\leqian\\anaconda3\\envs\\qiskit\\Lib\\site-packages\\qiskit_ibm_runtime\\ibm_backend.py:807\u001b[39m, in \u001b[36mIBMBackend._runtime_run\u001b[39m\u001b[34m(self, program_id, inputs, backend_name, job_tags, image)\u001b[39m\n\u001b[32m    806\u001b[39m \u001b[38;5;28;01mexcept\u001b[39;00m RequestsApiError \u001b[38;5;28;01mas\u001b[39;00m ex:\n\u001b[32m--> \u001b[39m\u001b[32m807\u001b[39m     \u001b[38;5;28;01mraise\u001b[39;00m IBMBackendApiError(\u001b[33m\"\u001b[39m\u001b[33mError submitting job: \u001b[39m\u001b[38;5;132;01m{}\u001b[39;00m\u001b[33m\"\u001b[39m.format(\u001b[38;5;28mstr\u001b[39m(ex))) \u001b[38;5;28;01mfrom\u001b[39;00m\u001b[38;5;250m \u001b[39m\u001b[34;01mex\u001b[39;00m\n\u001b[32m    808\u001b[39m \u001b[38;5;28;01mtry\u001b[39;00m:\n",
      "\u001b[31mIBMBackendApiError\u001b[39m: 'Error submitting job: \\'404 Client Error: Not Found for url: https://us-east.quantum-computing.cloud.ibm.com/jobs. {\"errors\":[{\"code\":1211,\"message\":\"Program not found.\",\"solution\":\"Make sure you use a valid program name, such as \\\\\\'sampler\\\\\\' or \\\\\\'estimator\\\\\\'. Qiskit Runtime no longer supports the \\\\\\'backend.run\\\\\\' interface. Refer to the `Migration guide <https://docs.quantum.ibm.com/migration-guides/qiskit-runtime>` __ for instructions to migrate to the primitives.\",\"more_info\":\"https://cloud.ibm.com/apidocs/quantum-computing#error-handling\"}],\"trace\":\"57782df3-4b8e-4731-8d38-027b0b80d425\"}\\\\n\\''",
      "\nThe above exception was the direct cause of the following exception:\n",
      "\u001b[31mAlgorithmError\u001b[39m                            Traceback (most recent call last)",
      "\u001b[36mCell\u001b[39m\u001b[36m \u001b[39m\u001b[32mIn[32]\u001b[39m\u001b[32m, line 9\u001b[39m\n\u001b[32m      7\u001b[39m \u001b[38;5;66;03m# Train quantum SVM\u001b[39;00m\n\u001b[32m      8\u001b[39m \u001b[38;5;28mprint\u001b[39m(\u001b[33m\"\u001b[39m\u001b[33mTraining quantum model...\u001b[39m\u001b[33m\"\u001b[39m)\n\u001b[32m----> \u001b[39m\u001b[32m9\u001b[39m qsvc.fit(X_train_pca[:,:n_features], y_train)\n",
      "\u001b[36mFile \u001b[39m\u001b[32mc:\\Users\\leqian\\anaconda3\\envs\\qiskit\\Lib\\site-packages\\sklearn\\base.py:1389\u001b[39m, in \u001b[36m_fit_context.<locals>.decorator.<locals>.wrapper\u001b[39m\u001b[34m(estimator, *args, **kwargs)\u001b[39m\n\u001b[32m   1382\u001b[39m     estimator._validate_params()\n\u001b[32m   1384\u001b[39m \u001b[38;5;28;01mwith\u001b[39;00m config_context(\n\u001b[32m   1385\u001b[39m     skip_parameter_validation=(\n\u001b[32m   1386\u001b[39m         prefer_skip_nested_validation \u001b[38;5;129;01mor\u001b[39;00m global_skip_validation\n\u001b[32m   1387\u001b[39m     )\n\u001b[32m   1388\u001b[39m ):\n\u001b[32m-> \u001b[39m\u001b[32m1389\u001b[39m     \u001b[38;5;28;01mreturn\u001b[39;00m fit_method(estimator, *args, **kwargs)\n",
      "\u001b[36mFile \u001b[39m\u001b[32mc:\\Users\\leqian\\anaconda3\\envs\\qiskit\\Lib\\site-packages\\sklearn\\svm\\_base.py:258\u001b[39m, in \u001b[36mBaseLibSVM.fit\u001b[39m\u001b[34m(self, X, y, sample_weight)\u001b[39m\n\u001b[32m    255\u001b[39m     \u001b[38;5;28mprint\u001b[39m(\u001b[33m\"\u001b[39m\u001b[33m[LibSVM]\u001b[39m\u001b[33m\"\u001b[39m, end=\u001b[33m\"\u001b[39m\u001b[33m\"\u001b[39m)\n\u001b[32m    257\u001b[39m seed = rnd.randint(np.iinfo(\u001b[33m\"\u001b[39m\u001b[33mi\u001b[39m\u001b[33m\"\u001b[39m).max)\n\u001b[32m--> \u001b[39m\u001b[32m258\u001b[39m fit(X, y, sample_weight, solver_type, kernel, random_seed=seed)\n\u001b[32m    259\u001b[39m \u001b[38;5;66;03m# see comment on the other call to np.iinfo in this file\u001b[39;00m\n\u001b[32m    261\u001b[39m \u001b[38;5;28mself\u001b[39m.shape_fit_ = X.shape \u001b[38;5;28;01mif\u001b[39;00m \u001b[38;5;28mhasattr\u001b[39m(X, \u001b[33m\"\u001b[39m\u001b[33mshape\u001b[39m\u001b[33m\"\u001b[39m) \u001b[38;5;28;01melse\u001b[39;00m (n_samples,)\n",
      "\u001b[36mFile \u001b[39m\u001b[32mc:\\Users\\leqian\\anaconda3\\envs\\qiskit\\Lib\\site-packages\\sklearn\\svm\\_base.py:317\u001b[39m, in \u001b[36mBaseLibSVM._dense_fit\u001b[39m\u001b[34m(self, X, y, sample_weight, solver_type, kernel, random_seed)\u001b[39m\n\u001b[32m    313\u001b[39m \u001b[38;5;28;01mif\u001b[39;00m \u001b[38;5;28mcallable\u001b[39m(\u001b[38;5;28mself\u001b[39m.kernel):\n\u001b[32m    314\u001b[39m     \u001b[38;5;66;03m# you must store a reference to X to compute the kernel in predict\u001b[39;00m\n\u001b[32m    315\u001b[39m     \u001b[38;5;66;03m# TODO: add keyword copy to copy on demand\u001b[39;00m\n\u001b[32m    316\u001b[39m     \u001b[38;5;28mself\u001b[39m.__Xfit = X\n\u001b[32m--> \u001b[39m\u001b[32m317\u001b[39m     X = \u001b[38;5;28mself\u001b[39m._compute_kernel(X)\n\u001b[32m    319\u001b[39m     \u001b[38;5;28;01mif\u001b[39;00m X.shape[\u001b[32m0\u001b[39m] != X.shape[\u001b[32m1\u001b[39m]:\n\u001b[32m    320\u001b[39m         \u001b[38;5;28;01mraise\u001b[39;00m \u001b[38;5;167;01mValueError\u001b[39;00m(\u001b[33m\"\u001b[39m\u001b[33mX.shape[0] should be equal to X.shape[1]\u001b[39m\u001b[33m\"\u001b[39m)\n",
      "\u001b[36mFile \u001b[39m\u001b[32mc:\\Users\\leqian\\anaconda3\\envs\\qiskit\\Lib\\site-packages\\sklearn\\svm\\_base.py:515\u001b[39m, in \u001b[36mBaseLibSVM._compute_kernel\u001b[39m\u001b[34m(self, X)\u001b[39m\n\u001b[32m    511\u001b[39m \u001b[38;5;250m\u001b[39m\u001b[33;03m\"\"\"Return the data transformed by a callable kernel\"\"\"\u001b[39;00m\n\u001b[32m    512\u001b[39m \u001b[38;5;28;01mif\u001b[39;00m \u001b[38;5;28mcallable\u001b[39m(\u001b[38;5;28mself\u001b[39m.kernel):\n\u001b[32m    513\u001b[39m     \u001b[38;5;66;03m# in the case of precomputed kernel given as a function, we\u001b[39;00m\n\u001b[32m    514\u001b[39m     \u001b[38;5;66;03m# have to compute explicitly the kernel matrix\u001b[39;00m\n\u001b[32m--> \u001b[39m\u001b[32m515\u001b[39m     kernel = \u001b[38;5;28mself\u001b[39m.kernel(X, \u001b[38;5;28mself\u001b[39m.__Xfit)\n\u001b[32m    516\u001b[39m     \u001b[38;5;28;01mif\u001b[39;00m sp.issparse(kernel):\n\u001b[32m    517\u001b[39m         kernel = kernel.toarray()\n",
      "\u001b[36mFile \u001b[39m\u001b[32mc:\\Users\\leqian\\anaconda3\\envs\\qiskit\\Lib\\site-packages\\qiskit_machine_learning\\kernels\\fidelity_quantum_kernel.py:114\u001b[39m, in \u001b[36mFidelityQuantumKernel.evaluate\u001b[39m\u001b[34m(self, x_vec, y_vec)\u001b[39m\n\u001b[32m    112\u001b[39m \u001b[38;5;28;01mif\u001b[39;00m is_symmetric:\n\u001b[32m    113\u001b[39m     left_parameters, right_parameters, indices = \u001b[38;5;28mself\u001b[39m._get_symmetric_parameterization(x_vec)\n\u001b[32m--> \u001b[39m\u001b[32m114\u001b[39m     kernel_matrix = \u001b[38;5;28mself\u001b[39m._get_symmetric_kernel_matrix(\n\u001b[32m    115\u001b[39m         kernel_shape, left_parameters, right_parameters, indices\n\u001b[32m    116\u001b[39m     )\n\u001b[32m    117\u001b[39m \u001b[38;5;28;01melse\u001b[39;00m:\n\u001b[32m    118\u001b[39m     left_parameters, right_parameters, indices = \u001b[38;5;28mself\u001b[39m._get_parameterization(x_vec, y_vec)\n",
      "\u001b[36mFile \u001b[39m\u001b[32mc:\\Users\\leqian\\anaconda3\\envs\\qiskit\\Lib\\site-packages\\qiskit_machine_learning\\kernels\\fidelity_quantum_kernel.py:208\u001b[39m, in \u001b[36mFidelityQuantumKernel._get_symmetric_kernel_matrix\u001b[39m\u001b[34m(self, kernel_shape, left_parameters, right_parameters, indices)\u001b[39m\n\u001b[32m    198\u001b[39m \u001b[38;5;28;01mdef\u001b[39;00m\u001b[38;5;250m \u001b[39m\u001b[34m_get_symmetric_kernel_matrix\u001b[39m(\n\u001b[32m    199\u001b[39m     \u001b[38;5;28mself\u001b[39m,\n\u001b[32m    200\u001b[39m     kernel_shape: \u001b[38;5;28mtuple\u001b[39m[\u001b[38;5;28mint\u001b[39m, \u001b[38;5;28mint\u001b[39m],\n\u001b[32m   (...)\u001b[39m\u001b[32m    203\u001b[39m     indices: KernelIndices,\n\u001b[32m    204\u001b[39m ) -> np.ndarray:\n\u001b[32m    205\u001b[39m \u001b[38;5;250m    \u001b[39m\u001b[33;03m\"\"\"\u001b[39;00m\n\u001b[32m    206\u001b[39m \u001b[33;03m    Given a set of parameterization, this computes the kernel matrix.\u001b[39;00m\n\u001b[32m    207\u001b[39m \u001b[33;03m    \"\"\"\u001b[39;00m\n\u001b[32m--> \u001b[39m\u001b[32m208\u001b[39m     kernel_entries = \u001b[38;5;28mself\u001b[39m._get_kernel_entries(left_parameters, right_parameters)\n\u001b[32m    209\u001b[39m     kernel_matrix = np.ones(kernel_shape)\n\u001b[32m    211\u001b[39m     \u001b[38;5;28;01mfor\u001b[39;00m i, (col, row) \u001b[38;5;129;01min\u001b[39;00m \u001b[38;5;28menumerate\u001b[39m(indices):\n",
      "\u001b[36mFile \u001b[39m\u001b[32mc:\\Users\\leqian\\anaconda3\\envs\\qiskit\\Lib\\site-packages\\qiskit_machine_learning\\kernels\\fidelity_quantum_kernel.py:235\u001b[39m, in \u001b[36mFidelityQuantumKernel._get_kernel_entries\u001b[39m\u001b[34m(self, left_parameters, right_parameters)\u001b[39m\n\u001b[32m    228\u001b[39m \u001b[38;5;28;01mif\u001b[39;00m \u001b[38;5;28mself\u001b[39m.max_circuits_per_job \u001b[38;5;129;01mis\u001b[39;00m \u001b[38;5;28;01mNone\u001b[39;00m:\n\u001b[32m    229\u001b[39m     job = \u001b[38;5;28mself\u001b[39m._fidelity.run(\n\u001b[32m    230\u001b[39m         [\u001b[38;5;28mself\u001b[39m._feature_map] * num_circuits,\n\u001b[32m    231\u001b[39m         [\u001b[38;5;28mself\u001b[39m._feature_map] * num_circuits,\n\u001b[32m    232\u001b[39m         left_parameters,  \u001b[38;5;66;03m# type: ignore[arg-type]\u001b[39;00m\n\u001b[32m    233\u001b[39m         right_parameters,  \u001b[38;5;66;03m# type: ignore[arg-type]\u001b[39;00m\n\u001b[32m    234\u001b[39m     )\n\u001b[32m--> \u001b[39m\u001b[32m235\u001b[39m     kernel_entries = job.result().fidelities\n\u001b[32m    236\u001b[39m \u001b[38;5;28;01melse\u001b[39;00m:\n\u001b[32m    237\u001b[39m     \u001b[38;5;66;03m# Determine the number of chunks needed\u001b[39;00m\n\u001b[32m    238\u001b[39m     num_chunks = (\n\u001b[32m    239\u001b[39m         num_circuits + \u001b[38;5;28mself\u001b[39m.max_circuits_per_job - \u001b[32m1\u001b[39m\n\u001b[32m    240\u001b[39m     ) // \u001b[38;5;28mself\u001b[39m.max_circuits_per_job\n",
      "\u001b[36mFile \u001b[39m\u001b[32mc:\\Users\\leqian\\anaconda3\\envs\\qiskit\\Lib\\site-packages\\qiskit\\primitives\\primitive_job.py:51\u001b[39m, in \u001b[36mPrimitiveJob.result\u001b[39m\u001b[34m(self)\u001b[39m\n\u001b[32m     49\u001b[39m \u001b[38;5;28;01mdef\u001b[39;00m\u001b[38;5;250m \u001b[39m\u001b[34mresult\u001b[39m(\u001b[38;5;28mself\u001b[39m) -> ResultT:\n\u001b[32m     50\u001b[39m     \u001b[38;5;28mself\u001b[39m._check_submitted()\n\u001b[32m---> \u001b[39m\u001b[32m51\u001b[39m     \u001b[38;5;28;01mreturn\u001b[39;00m \u001b[38;5;28mself\u001b[39m._future.result()\n",
      "\u001b[36mFile \u001b[39m\u001b[32mc:\\Users\\leqian\\anaconda3\\envs\\qiskit\\Lib\\concurrent\\futures\\_base.py:456\u001b[39m, in \u001b[36mFuture.result\u001b[39m\u001b[34m(self, timeout)\u001b[39m\n\u001b[32m    454\u001b[39m     \u001b[38;5;28;01mraise\u001b[39;00m CancelledError()\n\u001b[32m    455\u001b[39m \u001b[38;5;28;01melif\u001b[39;00m \u001b[38;5;28mself\u001b[39m._state == FINISHED:\n\u001b[32m--> \u001b[39m\u001b[32m456\u001b[39m     \u001b[38;5;28;01mreturn\u001b[39;00m \u001b[38;5;28mself\u001b[39m.__get_result()\n\u001b[32m    457\u001b[39m \u001b[38;5;28;01melse\u001b[39;00m:\n\u001b[32m    458\u001b[39m     \u001b[38;5;28;01mraise\u001b[39;00m \u001b[38;5;167;01mTimeoutError\u001b[39;00m()\n",
      "\u001b[36mFile \u001b[39m\u001b[32mc:\\Users\\leqian\\anaconda3\\envs\\qiskit\\Lib\\concurrent\\futures\\_base.py:401\u001b[39m, in \u001b[36mFuture.__get_result\u001b[39m\u001b[34m(self)\u001b[39m\n\u001b[32m    399\u001b[39m \u001b[38;5;28;01mif\u001b[39;00m \u001b[38;5;28mself\u001b[39m._exception:\n\u001b[32m    400\u001b[39m     \u001b[38;5;28;01mtry\u001b[39;00m:\n\u001b[32m--> \u001b[39m\u001b[32m401\u001b[39m         \u001b[38;5;28;01mraise\u001b[39;00m \u001b[38;5;28mself\u001b[39m._exception\n\u001b[32m    402\u001b[39m     \u001b[38;5;28;01mfinally\u001b[39;00m:\n\u001b[32m    403\u001b[39m         \u001b[38;5;66;03m# Break a reference cycle with the exception in self._exception\u001b[39;00m\n\u001b[32m    404\u001b[39m         \u001b[38;5;28mself\u001b[39m = \u001b[38;5;28;01mNone\u001b[39;00m\n",
      "\u001b[36mFile \u001b[39m\u001b[32mc:\\Users\\leqian\\anaconda3\\envs\\qiskit\\Lib\\concurrent\\futures\\thread.py:59\u001b[39m, in \u001b[36m_WorkItem.run\u001b[39m\u001b[34m(self)\u001b[39m\n\u001b[32m     56\u001b[39m     \u001b[38;5;28;01mreturn\u001b[39;00m\n\u001b[32m     58\u001b[39m \u001b[38;5;28;01mtry\u001b[39;00m:\n\u001b[32m---> \u001b[39m\u001b[32m59\u001b[39m     result = \u001b[38;5;28mself\u001b[39m.fn(*\u001b[38;5;28mself\u001b[39m.args, **\u001b[38;5;28mself\u001b[39m.kwargs)\n\u001b[32m     60\u001b[39m \u001b[38;5;28;01mexcept\u001b[39;00m \u001b[38;5;167;01mBaseException\u001b[39;00m \u001b[38;5;28;01mas\u001b[39;00m exc:\n\u001b[32m     61\u001b[39m     \u001b[38;5;28mself\u001b[39m.future.set_exception(exc)\n",
      "\u001b[36mFile \u001b[39m\u001b[32mc:\\Users\\leqian\\anaconda3\\envs\\qiskit\\Lib\\site-packages\\qiskit_algorithms\\state_fidelities\\compute_uncompute.py:172\u001b[39m, in \u001b[36mComputeUncompute._call\u001b[39m\u001b[34m(job, circuits, local, local_opts)\u001b[39m\n\u001b[32m    170\u001b[39m     result = job.result()\n\u001b[32m    171\u001b[39m \u001b[38;5;28;01mexcept\u001b[39;00m \u001b[38;5;167;01mException\u001b[39;00m \u001b[38;5;28;01mas\u001b[39;00m exc:\n\u001b[32m--> \u001b[39m\u001b[32m172\u001b[39m     \u001b[38;5;28;01mraise\u001b[39;00m AlgorithmError(\u001b[33m\"\u001b[39m\u001b[33mSampler job failed!\u001b[39m\u001b[33m\"\u001b[39m) \u001b[38;5;28;01mfrom\u001b[39;00m\u001b[38;5;250m \u001b[39m\u001b[34;01mexc\u001b[39;00m\n\u001b[32m    174\u001b[39m \u001b[38;5;28;01mif\u001b[39;00m local:\n\u001b[32m    175\u001b[39m     raw_fidelities = [\n\u001b[32m    176\u001b[39m         ComputeUncompute._get_local_fidelity(prob_dist, circuit.num_qubits)\n\u001b[32m    177\u001b[39m         \u001b[38;5;28;01mfor\u001b[39;00m prob_dist, circuit \u001b[38;5;129;01min\u001b[39;00m \u001b[38;5;28mzip\u001b[39m(result.quasi_dists, circuits)\n\u001b[32m    178\u001b[39m     ]\n",
      "\u001b[31mAlgorithmError\u001b[39m: 'Sampler job failed!'"
     ]
    }
   ],
   "source": [
    "print(\"Running Quantum SVM...\")\n",
    "\n",
    "\n",
    "# Create QSVC with quantum kernel\n",
    "qsvc = QSVC(quantum_kernel=quantum_kernel)\n",
    "\n",
    "# Train quantum SVM\n",
    "print(\"Training quantum model...\")\n",
    "qsvc.fit(X_train_pca[:,:n_features], y_train)"
   ]
  },
  {
   "cell_type": "code",
   "execution_count": 33,
   "id": "003b4bfa",
   "metadata": {},
   "outputs": [
    {
     "name": "stdout",
     "output_type": "stream",
     "text": [
      "Brisbane status: <qiskit_ibm_runtime.models.backend_status.BackendStatus object at 0x0000020DC5224BC0>\n",
      "Brisbane operational: True\n",
      "Pending jobs: 1738\n"
     ]
    }
   ],
   "source": [
    "from qiskit_ibm_runtime import QiskitRuntimeService\n",
    "\n",
    "service = QiskitRuntimeService()\n",
    "try:\n",
    "    backend = service.backend('ibm_brisbane')\n",
    "    print(f\"Brisbane status: {backend.status()}\")\n",
    "    print(f\"Brisbane operational: {backend.status().operational}\")\n",
    "    print(f\"Pending jobs: {backend.status().pending_jobs}\")\n",
    "except Exception as e:\n",
    "    print(f\"Cannot access Brisbane: {e}\")"
   ]
  },
  {
   "cell_type": "code",
   "execution_count": 34,
   "id": "651771a1",
   "metadata": {},
   "outputs": [
    {
     "name": "stdout",
     "output_type": "stream",
     "text": [
      "Available real quantum backends:\n",
      "- ibm_brisbane: True\n",
      "- ibm_torino: True\n"
     ]
    }
   ],
   "source": [
    "# List all available real quantum backends\n",
    "service = QiskitRuntimeService()\n",
    "real_backends = service.backends(simulator=False, operational=True)\n",
    "print(\"Available real quantum backends:\")\n",
    "for backend in real_backends:\n",
    "    print(f\"- {backend.name}: {backend.status().operational}\")"
   ]
  },
  {
   "cell_type": "code",
   "execution_count": 35,
   "id": "7a731d2e",
   "metadata": {},
   "outputs": [
    {
     "name": "stdout",
     "output_type": "stream",
     "text": [
      "Using ibm_torino instead\n"
     ]
    },
    {
     "name": "stderr",
     "output_type": "stream",
     "text": [
      "C:\\Users\\leqian\\AppData\\Local\\Temp\\ipykernel_14852\\3217931965.py:11: DeprecationWarning: The class ``qiskit.primitives.backend_sampler.BackendSampler`` is deprecated as of qiskit 1.2. It will be removed no earlier than 3 months after the release date. All implementations of the `BaseSamplerV1` interface have been deprecated in favor of their V2 counterparts. The V2 alternative for the `BackendSampler` class is `BackendSamplerV2`.\n",
      "  sampler = BackendSampler(backend)\n"
     ]
    }
   ],
   "source": [
    "# Try a different real quantum backend\n",
    "try:\n",
    "    # Common IBM backends that might be available\n",
    "    backend_names = ['ibm_kyoto', 'ibm_osaka', 'ibm_sherbrooke', 'ibm_torino']\n",
    "    \n",
    "    for backend_name in backend_names:\n",
    "        try:\n",
    "            backend = service.backend(backend_name)\n",
    "            if backend.status().operational:\n",
    "                print(f\"Using {backend_name} instead\")\n",
    "                sampler = BackendSampler(backend)\n",
    "                fidelity = ComputeUncompute(sampler=sampler)\n",
    "                quantum_kernel = FidelityQuantumKernel(feature_map=feature_map, fidelity=fidelity)\n",
    "                break\n",
    "        except:\n",
    "            continue\n",
    "            \n",
    "except Exception as e:\n",
    "    print(f\"Error accessing real backends: {e}\")"
   ]
  },
  {
   "cell_type": "code",
   "execution_count": 36,
   "id": "58e5d056",
   "metadata": {},
   "outputs": [
    {
     "name": "stdout",
     "output_type": "stream",
     "text": [
      "Trying smallest real backend: ibm_brisbane\n"
     ]
    }
   ],
   "source": [
    "# Test with the smallest available real backend\n",
    "service = QiskitRuntimeService()\n",
    "backends = service.backends(simulator=False, operational=True)\n",
    "if backends:\n",
    "    smallest_backend = min(backends, key=lambda b: b.configuration().n_qubits)\n",
    "    print(f\"Trying smallest real backend: {smallest_backend.name}\")\n",
    "    # Use this backend instead of Brisbane"
   ]
  },
  {
   "cell_type": "code",
   "execution_count": 17,
   "id": "d907b337",
   "metadata": {},
   "outputs": [
    {
     "name": "stdout",
     "output_type": "stream",
     "text": [
      "Making predictions...\n",
      "Quantum SVM Accuracy: 0.712\n",
      "Quantum SVM Accuracy: 0.620\n"
     ]
    }
   ],
   "source": [
    "# Predict and evaluate\n",
    "print(\"Making predictions...\")\n",
    "y_train_pred_quantum = qsvc.predict(X_train_pca[:,:n_features])\n",
    "accuracy_train_quantum = accuracy_score(y_train, y_train_pred_quantum)\n",
    "\n",
    "print(f\"Quantum SVM Accuracy: {accuracy_train_quantum:.3f}\")\n",
    "\n",
    "y_pred_quantum = qsvc.predict(X_test_pca[:,:n_features])\n",
    "accuracy_quantum = accuracy_score(y_test, y_pred_quantum)\n",
    "\n",
    "print(f\"Quantum SVM Accuracy: {accuracy_quantum:.3f}\")"
   ]
  },
  {
   "cell_type": "code",
   "execution_count": 14,
   "id": "893682d0",
   "metadata": {},
   "outputs": [],
   "source": [
    "def run_vqc(X_train, X_test, y_train, y_test, backend, service=None):\n",
    "    \"\"\"Run Variational Quantum Classifier as alternative\"\"\"\n",
    "    print(\"Running Variational Quantum Classifier...\")\n",
    "    \n",
    "    num_features = X_train.shape[1]\n",
    "    \n",
    "    try:\n",
    "        # Feature map\n",
    "        feature_map = ZZFeatureMap(num_features, reps=1)\n",
    "        \n",
    "        # Ansatz (parameterized quantum circuit)\n",
    "        ansatz = TwoLocal(num_features, ['ry', 'rz'], 'cz', reps=1)\n",
    "        \n",
    "        # Create VQC\n",
    "        if service:\n",
    "            with Session(service=service, backend=backend) as session:\n",
    "                sampler = Sampler(session=session)\n",
    "                vqc = VQC(sampler=sampler,\n",
    "                         feature_map=feature_map,\n",
    "                         ansatz=ansatz,\n",
    "                         optimizer='COBYLA',\n",
    "                         max_iter=50)  # Reduced iterations for faster execution\n",
    "        else:\n",
    "            sampler = StatevectorSampler()\n",
    "            vqc = VQC(sampler=sampler,\n",
    "                     feature_map=feature_map,\n",
    "                     ansatz=ansatz,\n",
    "                     optimizer='COBYLA',\n",
    "                     max_iter=50)\n",
    "        \n",
    "        # Train\n",
    "        print(\"Training VQC...\")\n",
    "        vqc.fit(X_train, y_train)\n",
    "        \n",
    "        # Predict\n",
    "        y_pred_vqc = vqc.predict(X_test)\n",
    "        accuracy_vqc = accuracy_score(y_test, y_pred_vqc)\n",
    "        \n",
    "        print(f\"VQC Accuracy: {accuracy_vqc:.3f}\")\n",
    "        return accuracy_vqc, y_pred_vqc\n",
    "        \n",
    "    except Exception as e:\n",
    "        print(f\"VQC failed: {e}\")\n",
    "        return None, None\n",
    "\n"
   ]
  },
  {
   "cell_type": "code",
   "execution_count": 63,
   "id": "65d3f77c",
   "metadata": {},
   "outputs": [],
   "source": [
    "# Feature map\n",
    "feature_map = ZZFeatureMap(num_features, reps=1)\n",
    "\n",
    "# Ansatz (parameterized quantum circuit)\n",
    "ansatz = TwoLocal(num_features, ['ry', 'rz'], 'cz', reps=1)\n",
    "\n"
   ]
  },
  {
   "cell_type": "code",
   "execution_count": 66,
   "id": "359bdf7a",
   "metadata": {},
   "outputs": [
    {
     "name": "stderr",
     "output_type": "stream",
     "text": [
      "C:\\Users\\leqian\\AppData\\Local\\Temp\\ipykernel_4856\\87125657.py:2: DeprecationWarning: Passing a backend as a string is deprecated as of qiskit-ibm-runtime 0.26.0 and will be removed no sooner than 3 months after the release date. Use the actual backend object instead.\n",
      "  sampler = Sampler(mode=\"batch\")\n"
     ]
    },
    {
     "ename": "QiskitBackendNotFoundError",
     "evalue": "'No backend matches the criteria. Learn more about available backends here https://cloud.ibm.com/docs/quantum-computing?topic=quantum-computing-choose-backend '",
     "output_type": "error",
     "traceback": [
      "\u001b[31m---------------------------------------------------------------------------\u001b[39m",
      "\u001b[31mQiskitBackendNotFoundError\u001b[39m                Traceback (most recent call last)",
      "\u001b[36mCell\u001b[39m\u001b[36m \u001b[39m\u001b[32mIn[66]\u001b[39m\u001b[32m, line 2\u001b[39m\n\u001b[32m      1\u001b[39m \u001b[38;5;66;03m# Create VQC\u001b[39;00m\n\u001b[32m----> \u001b[39m\u001b[32m2\u001b[39m sampler = Sampler(mode=\u001b[33m\"\u001b[39m\u001b[33mbatch\u001b[39m\u001b[33m\"\u001b[39m)\n\u001b[32m      3\u001b[39m vqc = VQC(sampler=sampler,\n\u001b[32m      4\u001b[39m             feature_map=feature_map,\n\u001b[32m      5\u001b[39m             ansatz=ansatz,\n\u001b[32m      6\u001b[39m             optimizer=\u001b[33m'\u001b[39m\u001b[33mCOBYLA\u001b[39m\u001b[33m'\u001b[39m,\n\u001b[32m      7\u001b[39m             max_iter=\u001b[32m50\u001b[39m)\n",
      "\u001b[36mFile \u001b[39m\u001b[32mc:\\Users\\leqian\\anaconda3\\envs\\qiskit\\Lib\\site-packages\\qiskit_ibm_runtime\\sampler.py:132\u001b[39m, in \u001b[36mSamplerV2.__init__\u001b[39m\u001b[34m(self, mode, backend, session, options)\u001b[39m\n\u001b[32m    130\u001b[39m \u001b[38;5;28;01mif\u001b[39;00m mode \u001b[38;5;129;01mis\u001b[39;00m \u001b[38;5;28;01mNone\u001b[39;00m:\n\u001b[32m    131\u001b[39m     mode = session \u001b[38;5;28;01mif\u001b[39;00m backend \u001b[38;5;129;01mand\u001b[39;00m session \u001b[38;5;28;01melse\u001b[39;00m backend \u001b[38;5;28;01mif\u001b[39;00m backend \u001b[38;5;28;01melse\u001b[39;00m session\n\u001b[32m--> \u001b[39m\u001b[32m132\u001b[39m BasePrimitiveV2.\u001b[34m__init__\u001b[39m(\u001b[38;5;28mself\u001b[39m, mode=mode, options=options)\n",
      "\u001b[36mFile \u001b[39m\u001b[32mc:\\Users\\leqian\\anaconda3\\envs\\qiskit\\Lib\\site-packages\\qiskit_ibm_runtime\\base_primitive.py:145\u001b[39m, in \u001b[36mBasePrimitiveV2.__init__\u001b[39m\u001b[34m(self, mode, options)\u001b[39m\n\u001b[32m    124\u001b[39m \u001b[38;5;28;01mdef\u001b[39;00m\u001b[38;5;250m \u001b[39m\u001b[34m__init__\u001b[39m(\n\u001b[32m    125\u001b[39m     \u001b[38;5;28mself\u001b[39m,\n\u001b[32m    126\u001b[39m     mode: Optional[Union[BackendV1, BackendV2, Session, Batch, \u001b[38;5;28mstr\u001b[39m]] = \u001b[38;5;28;01mNone\u001b[39;00m,\n\u001b[32m    127\u001b[39m     options: Optional[Union[Dict, OptionsT]] = \u001b[38;5;28;01mNone\u001b[39;00m,\n\u001b[32m    128\u001b[39m ):\n\u001b[32m    129\u001b[39m \u001b[38;5;250m    \u001b[39m\u001b[33;03m\"\"\"Initializes the primitive.\u001b[39;00m\n\u001b[32m    130\u001b[39m \n\u001b[32m    131\u001b[39m \u001b[33;03m    Args:\u001b[39;00m\n\u001b[32m   (...)\u001b[39m\u001b[32m    143\u001b[39m \u001b[33;03m        ValueError: Invalid arguments are given.\u001b[39;00m\n\u001b[32m    144\u001b[39m \u001b[33;03m    \"\"\"\u001b[39;00m\n\u001b[32m--> \u001b[39m\u001b[32m145\u001b[39m     \u001b[38;5;28mself\u001b[39m._mode, \u001b[38;5;28mself\u001b[39m._service, \u001b[38;5;28mself\u001b[39m._backend = _get_mode_service_backend(mode)\n\u001b[32m    146\u001b[39m     \u001b[38;5;28mself\u001b[39m._set_options(options)\n",
      "\u001b[36mFile \u001b[39m\u001b[32mc:\\Users\\leqian\\anaconda3\\envs\\qiskit\\Lib\\site-packages\\qiskit_ibm_runtime\\base_primitive.py:106\u001b[39m, in \u001b[36m_get_mode_service_backend\u001b[39m\u001b[34m(mode)\u001b[39m\n\u001b[32m     88\u001b[39m         warnings.warn(\n\u001b[32m     89\u001b[39m             (\n\u001b[32m     90\u001b[39m                 \u001b[33m\"\u001b[39m\u001b[33mPassing a backend as the mode currently runs the job in job mode even \u001b[39m\u001b[33m\"\u001b[39m\n\u001b[32m   (...)\u001b[39m\u001b[32m     99\u001b[39m             stacklevel=\u001b[32m4\u001b[39m,\n\u001b[32m    100\u001b[39m         )\n\u001b[32m    101\u001b[39m     service = (\n\u001b[32m    102\u001b[39m         QiskitRuntimeService()\n\u001b[32m    103\u001b[39m         \u001b[38;5;28;01mif\u001b[39;00m QiskitRuntimeService.global_service \u001b[38;5;129;01mis\u001b[39;00m \u001b[38;5;28;01mNone\u001b[39;00m\n\u001b[32m    104\u001b[39m         \u001b[38;5;28;01melse\u001b[39;00m QiskitRuntimeService.global_service\n\u001b[32m    105\u001b[39m     )\n\u001b[32m--> \u001b[39m\u001b[32m106\u001b[39m     \u001b[38;5;28;01mreturn\u001b[39;00m \u001b[38;5;28;01mNone\u001b[39;00m, service, service.backend(mode)\n\u001b[32m    107\u001b[39m \u001b[38;5;28;01melif\u001b[39;00m mode \u001b[38;5;129;01mis\u001b[39;00m \u001b[38;5;129;01mnot\u001b[39;00m \u001b[38;5;28;01mNone\u001b[39;00m:  \u001b[38;5;66;03m# type: ignore[unreachable]\u001b[39;00m\n\u001b[32m    108\u001b[39m     \u001b[38;5;28;01mraise\u001b[39;00m \u001b[38;5;167;01mValueError\u001b[39;00m(\u001b[33m\"\u001b[39m\u001b[33mmode must be of type Backend, Session, Batch or None\u001b[39m\u001b[33m\"\u001b[39m)\n",
      "\u001b[36mFile \u001b[39m\u001b[32mc:\\Users\\leqian\\anaconda3\\envs\\qiskit\\Lib\\site-packages\\qiskit_ibm_runtime\\qiskit_runtime_service.py:795\u001b[39m, in \u001b[36mQiskitRuntimeService.backend\u001b[39m\u001b[34m(self, name, instance, use_fractional_gates)\u001b[39m\n\u001b[32m    790\u001b[39m     \u001b[38;5;28;01mif\u001b[39;00m \u001b[38;5;28mself\u001b[39m._channel == \u001b[33m\"\u001b[39m\u001b[33mibm_cloud\u001b[39m\u001b[33m\"\u001b[39m:\n\u001b[32m    791\u001b[39m         cloud_msg_url = (\n\u001b[32m    792\u001b[39m             \u001b[33m\"\u001b[39m\u001b[33m Learn more about available backends here \u001b[39m\u001b[33m\"\u001b[39m\n\u001b[32m    793\u001b[39m             \u001b[33m\"\u001b[39m\u001b[33mhttps://cloud.ibm.com/docs/quantum-computing?topic=quantum-computing-choose-backend \u001b[39m\u001b[33m\"\u001b[39m\n\u001b[32m    794\u001b[39m         )\n\u001b[32m--> \u001b[39m\u001b[32m795\u001b[39m     \u001b[38;5;28;01mraise\u001b[39;00m QiskitBackendNotFoundError(\u001b[33m\"\u001b[39m\u001b[33mNo backend matches the criteria.\u001b[39m\u001b[33m\"\u001b[39m + cloud_msg_url)\n\u001b[32m    796\u001b[39m \u001b[38;5;28;01mreturn\u001b[39;00m backends[\u001b[32m0\u001b[39m]\n",
      "\u001b[31mQiskitBackendNotFoundError\u001b[39m: 'No backend matches the criteria. Learn more about available backends here https://cloud.ibm.com/docs/quantum-computing?topic=quantum-computing-choose-backend '"
     ]
    }
   ],
   "source": [
    "# Create VQC\n",
    "sampler = Sampler(mode=\"batch\")\n",
    "vqc = VQC(sampler=sampler,\n",
    "            feature_map=feature_map,\n",
    "            ansatz=ansatz,\n",
    "            optimizer='COBYLA',\n",
    "            max_iter=50)  # Reduced iterations for faster execution\n",
    "\n",
    "# Train\n"
   ]
  },
  {
   "cell_type": "code",
   "execution_count": null,
   "id": "133b8e24",
   "metadata": {},
   "outputs": [],
   "source": [
    "print(\"Training VQC...\")\n",
    "vqc.fit(X_train, y_train)\n",
    "\n",
    "# Predict\n",
    "y_pred_vqc = vqc.predict(X_test)\n",
    "accuracy_vqc = accuracy_score(y_test, y_pred_vqc)\n",
    "\n",
    "print(f\"VQC Accuracy: {accuracy_vqc:.3f}\")\n",
    "    \n"
   ]
  },
  {
   "cell_type": "code",
   "execution_count": 61,
   "id": "20e85790",
   "metadata": {},
   "outputs": [
    {
     "name": "stdout",
     "output_type": "stream",
     "text": [
      "\n",
      "==================================================\n",
      "Running Variational Quantum Classifier...\n"
     ]
    },
    {
     "name": "stderr",
     "output_type": "stream",
     "text": [
      "C:\\Users\\leqian\\AppData\\Local\\Temp\\ipykernel_4856\\1348500438.py:16: DeprecationWarning: The service parameter is deprecated as of qiskit-ibm-runtime 0.26.0 and will be removed no sooner than 3 months after the release date. The service can be extracted from the backend object so it is no longer necessary.\n",
      "  with Session(service=service, backend=backend) as session:\n"
     ]
    },
    {
     "name": "stdout",
     "output_type": "stream",
     "text": [
      "VQC failed: '400 Client Error: Bad Request for url: https://us-east.quantum-computing.cloud.ibm.com/sessions. {\"errors\":[{\"code\":1352,\"message\":\"You are not authorized to run a session when using the open plan.\",\"solution\":\"Create an instance of a different plan type or use a different execution mode <https://quantum.cloud.ibm.com/docs/guides/execution-modes>.\",\"more_info\":\"https://cloud.ibm.com/apidocs/quantum-computing#error-handling\"}],\"trace\":\"d93e9f4c-51a3-4d51-871f-844df53ad0fb\"}\\n'\n"
     ]
    }
   ],
   "source": [
    "# Run VQC as alternative\n",
    "print(\"\\n\" + \"=\"*50)\n",
    "acc_vqc, pred_vqc = run_vqc(\n",
    "    X_train_small, X_test_small, y_train_small, y_test_small, backend, service\n",
    ")\n",
    "\n"
   ]
  },
  {
   "cell_type": "code",
   "execution_count": null,
   "id": "b3fd2b5e",
   "metadata": {},
   "outputs": [],
   "source": [
    "# Summary\n",
    "print(\"\\n\" + \"=\"*50)\n",
    "print(\"RESULTS SUMMARY:\")\n",
    "print(f\"Classical SVM Accuracy: {acc_classical:.3f}\")\n",
    "if acc_quantum:\n",
    "    print(f\"Quantum SVM Accuracy:   {acc_quantum:.3f}\")\n",
    "if acc_vqc:\n",
    "    print(f\"VQC Accuracy:          {acc_vqc:.3f}\")\n",
    "\n",
    "# Print actual vs predicted for small test set\n",
    "print(f\"\\nActual labels:    {y_test_small}\")\n",
    "print(f\"Classical pred:   {pred_classical}\")\n",
    "if pred_quantum is not None:\n",
    "    print(f\"Quantum pred:     {pred_quantum}\")\n",
    "if pred_vqc is not None:\n",
    "    print(f\"VQC pred:         {pred_vqc}\")\n",
    "\n"
   ]
  },
  {
   "cell_type": "code",
   "execution_count": null,
   "id": "298e8a11",
   "metadata": {},
   "outputs": [],
   "source": [
    "# Installation requirements\n",
    "print(\"Required packages:\")\n",
    "print(\"pip install qiskit qiskit-ibm-runtime qiskit-machine-learning\")\n",
    "print(\"pip install qiskit-aer scikit-learn pandas numpy matplotlib\")\n",
    "print(\"\\nNote: qiskit-ibm-provider is deprecated, only use qiskit-ibm-runtime\")\n",
    "print(\"Important: Use FidelityQuantumKernel instead of QuantumKernel in recent versions\")\n",
    "print(\"Make sure qiskit-machine-learning version is >= 0.6\")\n",
    "print(\"\\n\" + \"=\"*50)\n",
    "\n",
    "\n",
    "\n",
    "# Instructions for running on IBM Quantum Cloud:\n",
    "\"\"\"\n",
    "1. Create IBM Quantum account at https://quantum-computing.ibm.com/\n",
    "2. Get your API token from your account settings\n",
    "3. Replace \"YOUR_IBM_QUANTUM_TOKEN_HERE\" with your actual token\n",
    "4. Or save credentials locally using:\n",
    "from qiskit_ibm_runtime import QiskitRuntimeService\n",
    "QiskitRuntimeService.save_account(channel=\"ibm_quantum\", token=\"your_token\")\n",
    "\n",
    "5. For the Pima Indian Diabetes dataset:\n",
    "- Download from: https://www.kaggle.com/datasets/uciml/pima-indians-diabetes-database\n",
    "- Place the CSV file in your working directory\n",
    "- Uncomment the pandas.read_csv line in load_pima_data()\n",
    "\n",
    "Note: This code uses the modern qiskit-ibm-runtime package only.\n",
    "The old qiskit-ibm-provider is deprecated and removed from imports.\n",
    "\n",
    "Current limitations due to quantum hardware constraints:\n",
    "- Uses small subset of data (20 training, 10 test samples)\n",
    "- Limited features (4) due to qubit availability\n",
    "- Consider using dimensionality reduction (PCA) for larger datasets\n",
    "- Use data encoding techniques like amplitude encoding for efficiency\n",
    "- Consider hybrid classical-quantum approaches for practical applications\n",
    "\"\"\""
   ]
  }
 ],
 "metadata": {
  "kernelspec": {
   "display_name": "qiskit",
   "language": "python",
   "name": "python3"
  },
  "language_info": {
   "codemirror_mode": {
    "name": "ipython",
    "version": 3
   },
   "file_extension": ".py",
   "mimetype": "text/x-python",
   "name": "python",
   "nbconvert_exporter": "python",
   "pygments_lexer": "ipython3",
   "version": "3.12.9"
  }
 },
 "nbformat": 4,
 "nbformat_minor": 5
}
