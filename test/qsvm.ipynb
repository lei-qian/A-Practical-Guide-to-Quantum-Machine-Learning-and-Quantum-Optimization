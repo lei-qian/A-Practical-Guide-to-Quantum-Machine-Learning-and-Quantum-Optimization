{
 "cells": [
  {
   "cell_type": "code",
   "execution_count": null,
   "id": "3d50ac25",
   "metadata": {},
   "outputs": [],
   "source": [
    "import numpy as np\n",
    "import pandas as pd\n",
    "from sklearn.datasets import load_breast_cancer\n",
    "from sklearn.model_selection import train_test_split\n",
    "from sklearn.preprocessing import StandardScaler, MinMaxScaler\n",
    "from sklearn.svm import SVC\n",
    "from sklearn.metrics import accuracy_score, classification_report\n",
    "import matplotlib.pyplot as plt\n"
   ]
  },
  {
   "cell_type": "code",
   "execution_count": 2,
   "id": "80ec281a",
   "metadata": {},
   "outputs": [],
   "source": [
    "\n",
    "# Qiskit imports\n",
    "from qiskit import QuantumCircuit, transpile\n",
    "from qiskit.circuit.library import ZZFeatureMap, TwoLocal\n",
    "from qiskit_machine_learning.algorithms import VQC, QSVC\n",
    "from qiskit_machine_learning.kernels import FidelityQuantumKernel\n",
    "from qiskit_ibm_runtime import QiskitRuntimeService, Sampler, Session\n",
    "from qiskit.primitives import StatevectorSampler\n",
    "from qiskit_algorithms.state_fidelities import ComputeUncompute"
   ]
  },
  {
   "cell_type": "code",
   "execution_count": 3,
   "id": "74134d55",
   "metadata": {},
   "outputs": [],
   "source": [
    "# For local simulation\n",
    "from qiskit_aer import AerSimulator"
   ]
  },
  {
   "cell_type": "markdown",
   "id": "6391eab5",
   "metadata": {},
   "source": [
    "## Load Pima Indian Dataset"
   ]
  },
  {
   "cell_type": "code",
   "execution_count": 22,
   "id": "319f7aef",
   "metadata": {},
   "outputs": [
    {
     "data": {
      "application/vnd.microsoft.datawrangler.viewer.v0+json": {
       "columns": [
        {
         "name": "index",
         "rawType": "int64",
         "type": "integer"
        },
        {
         "name": "Pregnancies",
         "rawType": "int64",
         "type": "integer"
        },
        {
         "name": "Glucose",
         "rawType": "int64",
         "type": "integer"
        },
        {
         "name": "BloodPressure",
         "rawType": "int64",
         "type": "integer"
        },
        {
         "name": "SkinThickness",
         "rawType": "int64",
         "type": "integer"
        },
        {
         "name": "Insulin",
         "rawType": "int64",
         "type": "integer"
        },
        {
         "name": "BMI",
         "rawType": "float64",
         "type": "float"
        },
        {
         "name": "DiabetesPedigreeFunction",
         "rawType": "float64",
         "type": "float"
        },
        {
         "name": "Age",
         "rawType": "int64",
         "type": "integer"
        },
        {
         "name": "Outcome",
         "rawType": "int64",
         "type": "integer"
        }
       ],
       "ref": "c8f26cd7-ebff-40d5-8cb1-34e623440b3a",
       "rows": [
        [
         "0",
         "6",
         "148",
         "72",
         "35",
         "0",
         "33.6",
         "0.627",
         "50",
         "1"
        ],
        [
         "1",
         "1",
         "85",
         "66",
         "29",
         "0",
         "26.6",
         "0.351",
         "31",
         "0"
        ],
        [
         "2",
         "8",
         "183",
         "64",
         "0",
         "0",
         "23.3",
         "0.672",
         "32",
         "1"
        ],
        [
         "3",
         "1",
         "89",
         "66",
         "23",
         "94",
         "28.1",
         "0.167",
         "21",
         "0"
        ],
        [
         "4",
         "0",
         "137",
         "40",
         "35",
         "168",
         "43.1",
         "2.288",
         "33",
         "1"
        ]
       ],
       "shape": {
        "columns": 9,
        "rows": 5
       }
      },
      "text/html": [
       "<div>\n",
       "<style scoped>\n",
       "    .dataframe tbody tr th:only-of-type {\n",
       "        vertical-align: middle;\n",
       "    }\n",
       "\n",
       "    .dataframe tbody tr th {\n",
       "        vertical-align: top;\n",
       "    }\n",
       "\n",
       "    .dataframe thead th {\n",
       "        text-align: right;\n",
       "    }\n",
       "</style>\n",
       "<table border=\"1\" class=\"dataframe\">\n",
       "  <thead>\n",
       "    <tr style=\"text-align: right;\">\n",
       "      <th></th>\n",
       "      <th>Pregnancies</th>\n",
       "      <th>Glucose</th>\n",
       "      <th>BloodPressure</th>\n",
       "      <th>SkinThickness</th>\n",
       "      <th>Insulin</th>\n",
       "      <th>BMI</th>\n",
       "      <th>DiabetesPedigreeFunction</th>\n",
       "      <th>Age</th>\n",
       "      <th>Outcome</th>\n",
       "    </tr>\n",
       "  </thead>\n",
       "  <tbody>\n",
       "    <tr>\n",
       "      <th>0</th>\n",
       "      <td>6</td>\n",
       "      <td>148</td>\n",
       "      <td>72</td>\n",
       "      <td>35</td>\n",
       "      <td>0</td>\n",
       "      <td>33.6</td>\n",
       "      <td>0.627</td>\n",
       "      <td>50</td>\n",
       "      <td>1</td>\n",
       "    </tr>\n",
       "    <tr>\n",
       "      <th>1</th>\n",
       "      <td>1</td>\n",
       "      <td>85</td>\n",
       "      <td>66</td>\n",
       "      <td>29</td>\n",
       "      <td>0</td>\n",
       "      <td>26.6</td>\n",
       "      <td>0.351</td>\n",
       "      <td>31</td>\n",
       "      <td>0</td>\n",
       "    </tr>\n",
       "    <tr>\n",
       "      <th>2</th>\n",
       "      <td>8</td>\n",
       "      <td>183</td>\n",
       "      <td>64</td>\n",
       "      <td>0</td>\n",
       "      <td>0</td>\n",
       "      <td>23.3</td>\n",
       "      <td>0.672</td>\n",
       "      <td>32</td>\n",
       "      <td>1</td>\n",
       "    </tr>\n",
       "    <tr>\n",
       "      <th>3</th>\n",
       "      <td>1</td>\n",
       "      <td>89</td>\n",
       "      <td>66</td>\n",
       "      <td>23</td>\n",
       "      <td>94</td>\n",
       "      <td>28.1</td>\n",
       "      <td>0.167</td>\n",
       "      <td>21</td>\n",
       "      <td>0</td>\n",
       "    </tr>\n",
       "    <tr>\n",
       "      <th>4</th>\n",
       "      <td>0</td>\n",
       "      <td>137</td>\n",
       "      <td>40</td>\n",
       "      <td>35</td>\n",
       "      <td>168</td>\n",
       "      <td>43.1</td>\n",
       "      <td>2.288</td>\n",
       "      <td>33</td>\n",
       "      <td>1</td>\n",
       "    </tr>\n",
       "  </tbody>\n",
       "</table>\n",
       "</div>"
      ],
      "text/plain": [
       "   Pregnancies  Glucose  BloodPressure  SkinThickness  Insulin   BMI  \\\n",
       "0            6      148             72             35        0  33.6   \n",
       "1            1       85             66             29        0  26.6   \n",
       "2            8      183             64              0        0  23.3   \n",
       "3            1       89             66             23       94  28.1   \n",
       "4            0      137             40             35      168  43.1   \n",
       "\n",
       "   DiabetesPedigreeFunction  Age  Outcome  \n",
       "0                     0.627   50        1  \n",
       "1                     0.351   31        0  \n",
       "2                     0.672   32        1  \n",
       "3                     0.167   21        0  \n",
       "4                     2.288   33        1  "
      ]
     },
     "execution_count": 22,
     "metadata": {},
     "output_type": "execute_result"
    }
   ],
   "source": [
    "df = pd.read_csv(\"diabetes.csv\")\n",
    "df.head()"
   ]
  },
  {
   "cell_type": "code",
   "execution_count": 27,
   "id": "f008ce21",
   "metadata": {},
   "outputs": [
    {
     "name": "stdout",
     "output_type": "stream",
     "text": [
      "(537, 8) (231, 8)\n"
     ]
    }
   ],
   "source": [
    "data = df.to_numpy()\n",
    "X = data[:, :-1]  # Use first 8 features to match Pima structure\n",
    "y = data[:,-1]\n",
    "\n",
    "X_train, X_test, y_train, y_test = train_test_split(X, y, test_size=0.3)\n",
    "\n",
    "# Scale to match Pima-like ranges\n",
    "scaler = StandardScaler()\n",
    "X_train_scaled = scaler.fit_transform(X_train)\n",
    "X_test_scaled = scaler.transform(X_test)\n",
    "print(X_train.shape, X_test.shape)\n"
   ]
  },
  {
   "cell_type": "code",
   "execution_count": 5,
   "id": "05067b6e",
   "metadata": {},
   "outputs": [],
   "source": [
    "def setup_ibm_quantum(token=None, instance_id=None):\n",
    "    \"\"\"Setup IBM Quantum Cloud connection using qiskit-ibm-runtime\"\"\"\n",
    "    try:\n",
    "        # Initialize the service using the modern API\n",
    "        if token:\n",
    "            service = QiskitRuntimeService(channel=\"ibm_cloud\", token=token, instance=instance_id)\n",
    "        else:\n",
    "            # Try to use saved credentials\n",
    "            service = QiskitRuntimeService(channel='ibm_cloud')\n",
    "        \n",
    "        # Get available backends\n",
    "        backends = service.backends(simulator=False, operational=True)\n",
    "        print(\"Available quantum backends:\")\n",
    "        for backend in backends:\n",
    "            print(f\"  - {backend.name}: {backend.num_qubits} qubits\")\n",
    "        \n",
    "        # Select least busy real quantum computer\n",
    "        if backends:\n",
    "            backend = service.least_busy(operational=True, simulator=False)\n",
    "            print(f\"\\nSelected backend: {backend.name}\")\n",
    "        else:\n",
    "            print(\"No quantum backends available, using simulator\")\n",
    "            backend = service.backend('ibmq_qasm_simulator')\n",
    "        \n",
    "        return service, backend\n",
    "    \n",
    "    except Exception as e:\n",
    "        print(f\"IBM Quantum setup failed: {e}\")\n",
    "        print(\"Falling back to local simulator\")\n",
    "        return None, AerSimulator()\n",
    "\n"
   ]
  },
  {
   "cell_type": "code",
   "execution_count": 6,
   "id": "5ad90835",
   "metadata": {},
   "outputs": [],
   "source": [
    "def create_quantum_kernel(num_features):\n",
    "    \"\"\"Create quantum kernel for QSVM\"\"\"\n",
    "    \n",
    "    # Feature map - encodes classical data into quantum states\n",
    "    feature_map = ZZFeatureMap(feature_dimension=num_features, \n",
    "                                reps=2, \n",
    "                                entanglement='linear')\n",
    "\n",
    "    quantum_kernel = FidelityQuantumKernel(feature_map=feature_map)\n",
    "    \n",
    "    return quantum_kernel\n",
    "\n"
   ]
  },
  {
   "cell_type": "code",
   "execution_count": 17,
   "id": "ca41138f",
   "metadata": {},
   "outputs": [],
   "source": [
    "def run_classical_svm(X_train, X_test, y_train, y_test):\n",
    "    \"\"\"Run classical SVM for comparison\"\"\"\n",
    "    print(\"Running Classical SVM...\")\n",
    "    \n",
    "    # Train classical SVM\n",
    "    classical_svm = SVC(kernel='rbf', C=1.0, random_state=1)\n",
    "    classical_svm.fit(X_train, y_train)\n",
    "    \n",
    "    # Predict and evaluate\n",
    "    y_pred_classical = classical_svm.predict(X_test)\n",
    "    accuracy_classical = accuracy_score(y_test, y_pred_classical)\n",
    "    \n",
    "    print(f\"Classical SVM Accuracy: {accuracy_classical:.3f}\")\n",
    "    return accuracy_classical, y_pred_classical\n",
    "\n"
   ]
  },
  {
   "cell_type": "code",
   "execution_count": null,
   "id": "fd82ea2e",
   "metadata": {},
   "outputs": [],
   "source": [
    "def run_quantum_svm(X_train, X_test, y_train, y_test, quantum_kernel):\n",
    "    \"\"\"Run Quantum SVM\"\"\"\n",
    "    print(\"Running Quantum SVM...\")\n",
    "    \n",
    "    try:\n",
    "        # Create QSVC with quantum kernel\n",
    "        qsvc = QSVC(quantum_kernel=quantum_kernel)\n",
    "        \n",
    "        # Train quantum SVM\n",
    "        print(\"Training quantum model...\")\n",
    "        qsvc.fit(X_train, y_train)\n",
    "        \n",
    "        # Predict and evaluate\n",
    "        print(\"Making predictions...\")\n",
    "        y_pred_quantum = qsvc.predict(X_test)\n",
    "        accuracy_quantum = accuracy_score(y_test, y_pred_quantum)\n",
    "        \n",
    "        print(f\"Quantum SVM Accuracy: {accuracy_quantum:.3f}\")\n",
    "        return accuracy_quantum, y_pred_quantum\n",
    "        \n",
    "    except Exception as e:\n",
    "        print(f\"Quantum SVM failed: {e}\")\n",
    "        print(\"This might be due to quantum kernel computation issues.\")\n",
    "        return None, None\n",
    "\n"
   ]
  },
  {
   "cell_type": "code",
   "execution_count": 9,
   "id": "893682d0",
   "metadata": {},
   "outputs": [],
   "source": [
    "def run_vqc(X_train, X_test, y_train, y_test, backend, service=None):\n",
    "    \"\"\"Run Variational Quantum Classifier as alternative\"\"\"\n",
    "    print(\"Running Variational Quantum Classifier...\")\n",
    "    \n",
    "    num_features = X_train.shape[1]\n",
    "    \n",
    "    try:\n",
    "        # Feature map\n",
    "        feature_map = ZZFeatureMap(num_features, reps=1)\n",
    "        \n",
    "        # Ansatz (parameterized quantum circuit)\n",
    "        ansatz = TwoLocal(num_features, ['ry', 'rz'], 'cz', reps=1)\n",
    "        \n",
    "        # Create VQC\n",
    "        if service:\n",
    "            with Session(service=service, backend=backend) as session:\n",
    "                sampler = Sampler(session=session)\n",
    "                vqc = VQC(sampler=sampler,\n",
    "                         feature_map=feature_map,\n",
    "                         ansatz=ansatz,\n",
    "                         optimizer='COBYLA',\n",
    "                         max_iter=50)  # Reduced iterations for faster execution\n",
    "        else:\n",
    "            sampler = StatevectorSampler()\n",
    "            vqc = VQC(sampler=sampler,\n",
    "                     feature_map=feature_map,\n",
    "                     ansatz=ansatz,\n",
    "                     optimizer='COBYLA',\n",
    "                     max_iter=50)\n",
    "        \n",
    "        # Train\n",
    "        print(\"Training VQC...\")\n",
    "        vqc.fit(X_train, y_train)\n",
    "        \n",
    "        # Predict\n",
    "        y_pred_vqc = vqc.predict(X_test)\n",
    "        accuracy_vqc = accuracy_score(y_test, y_pred_vqc)\n",
    "        \n",
    "        print(f\"VQC Accuracy: {accuracy_vqc:.3f}\")\n",
    "        return accuracy_vqc, y_pred_vqc\n",
    "        \n",
    "    except Exception as e:\n",
    "        print(f\"VQC failed: {e}\")\n",
    "        return None, None\n",
    "\n"
   ]
  },
  {
   "cell_type": "code",
   "execution_count": 10,
   "id": "c6f556f5",
   "metadata": {},
   "outputs": [
    {
     "name": "stdout",
     "output_type": "stream",
     "text": [
      "=== Quantum SVM with IBM Quantum Cloud ===\n",
      "\n",
      "Loading Pima Indian Diabetes dataset...\n",
      "Dataset shape: (569, 4)\n",
      "Classes: [0 1]\n"
     ]
    }
   ],
   "source": [
    "\n",
    "\"\"\"Main execution function\"\"\"\n",
    "print(\"=== Quantum SVM with IBM Quantum Cloud ===\\n\")\n",
    "\n",
    "# Load and preprocess data\n",
    "print(\"Loading Pima Indian Diabetes dataset...\")\n",
    "X, y = load_pima_data()\n",
    "\n",
    "# For quantum computers, we need to limit features due to qubit constraints\n",
    "# Select most important features (in real Pima dataset, these might be glucose, BMI, age, etc.)\n",
    "n_features = 4  # Adjust based on available qubits\n",
    "X = X[:, :n_features]\n",
    "\n",
    "print(f\"Dataset shape: {X.shape}\")\n",
    "print(f\"Classes: {np.unique(y)}\")\n",
    "\n"
   ]
  },
  {
   "cell_type": "code",
   "execution_count": 11,
   "id": "21396a91",
   "metadata": {},
   "outputs": [],
   "source": [
    "# Split data\n",
    "X_train, X_test, y_train, y_test = train_test_split(\n",
    "    X, y, test_size=0.3, random_state=42, stratify=y\n",
    ")\n",
    "\n",
    "# Scale features for quantum encoding\n",
    "scaler = MinMaxScaler(feature_range=(0, np.pi))  # Scale to [0, π] for quantum encoding\n",
    "X_train_scaled = scaler.fit_transform(X_train)\n",
    "X_test_scaled = scaler.transform(X_test)\n",
    "\n"
   ]
  },
  {
   "cell_type": "code",
   "execution_count": 12,
   "id": "e09b15df",
   "metadata": {},
   "outputs": [
    {
     "name": "stdout",
     "output_type": "stream",
     "text": [
      "Training subset: (20, 4)\n",
      "Test subset: (10, 4)\n"
     ]
    }
   ],
   "source": [
    "# For demonstration purposes, use smaller subset\n",
    "subset_size = 20  # Reduce for faster quantum execution\n",
    "X_train_small = X_train_scaled[:subset_size]\n",
    "y_train_small = y_train[:subset_size]\n",
    "X_test_small = X_test_scaled[:10]\n",
    "y_test_small = y_test[:10]\n",
    "\n",
    "print(f\"Training subset: {X_train_small.shape}\")\n",
    "print(f\"Test subset: {X_test_small.shape}\")\n",
    "\n"
   ]
  },
  {
   "cell_type": "code",
   "execution_count": 13,
   "id": "34b9d462",
   "metadata": {},
   "outputs": [
    {
     "name": "stdout",
     "output_type": "stream",
     "text": [
      "\n",
      "Setting up quantum backend...\n",
      "Available quantum backends:\n",
      "  - ibm_brisbane: 127 qubits\n",
      "  - ibm_torino: 133 qubits\n",
      "\n",
      "Selected backend: ibm_brisbane\n"
     ]
    }
   ],
   "source": [
    "# Setup IBM Quantum (uncomment and add your token)\n",
    "print(\"\\nSetting up quantum backend...\")\n",
    "# service, backend = setup_ibm_quantum(token=\"YOUR_IBM_QUANTUM_TOKEN_HERE\")\n",
    "token = \"VMgmA9Gjyklr5uAIq8S6FYXrmKvoVN3QLo714I6KjRBA\"\n",
    "instance_id = \"QML\"\n",
    "service, backend = setup_ibm_quantum(token=token, instance_id=instance_id)  # Uses local simulator\n",
    "\n"
   ]
  },
  {
   "cell_type": "code",
   "execution_count": 19,
   "id": "16287610",
   "metadata": {},
   "outputs": [
    {
     "name": "stdout",
     "output_type": "stream",
     "text": [
      "Running Classical SVM...\n",
      "Classical SVM Accuracy: 0.889\n"
     ]
    }
   ],
   "source": [
    "# Run classical SVM for comparison\n",
    "acc_classical, pred_classical = run_classical_svm(\n",
    "    X_train_scaled, X_test_scaled, y_train, y_test\n",
    ")\n",
    "\n"
   ]
  },
  {
   "cell_type": "code",
   "execution_count": 15,
   "id": "a9238146",
   "metadata": {},
   "outputs": [
    {
     "name": "stdout",
     "output_type": "stream",
     "text": [
      "\n",
      "Creating quantum kernel...\n"
     ]
    }
   ],
   "source": [
    "# Create quantum kernel\n",
    "print(\"\\nCreating quantum kernel...\")\n",
    "quantum_kernel = create_quantum_kernel(n_features)\n",
    "\n"
   ]
  },
  {
   "cell_type": "code",
   "execution_count": 16,
   "id": "b072b2e6",
   "metadata": {},
   "outputs": [
    {
     "name": "stdout",
     "output_type": "stream",
     "text": [
      "\n",
      "==================================================\n",
      "Running Quantum SVM...\n",
      "Training quantum model...\n",
      "Making predictions...\n",
      "Quantum SVM Accuracy: 0.889\n"
     ]
    }
   ],
   "source": [
    "# Run Quantum SVM\n",
    "print(\"\\n\" + \"=\"*50)\n",
    "acc_quantum, pred_quantum = run_quantum_svm(\n",
    "    X_train_scaled, X_test_scaled, y_train, y_test, quantum_kernel\n",
    ")\n",
    "\n"
   ]
  },
  {
   "cell_type": "code",
   "execution_count": null,
   "id": "471d9a42",
   "metadata": {},
   "outputs": [],
   "source": [
    "X_train = X_train_scaled\n",
    "X_test = X_test_scaled\n",
    "y_train = y_train_small\n",
    "y_test = y_test\n",
    "\n",
    "num_features = X_train.shape[1]\n",
    "\n"
   ]
  },
  {
   "cell_type": "code",
   "execution_count": 63,
   "id": "65d3f77c",
   "metadata": {},
   "outputs": [],
   "source": [
    "# Feature map\n",
    "feature_map = ZZFeatureMap(num_features, reps=1)\n",
    "\n",
    "# Ansatz (parameterized quantum circuit)\n",
    "ansatz = TwoLocal(num_features, ['ry', 'rz'], 'cz', reps=1)\n",
    "\n"
   ]
  },
  {
   "cell_type": "code",
   "execution_count": 66,
   "id": "359bdf7a",
   "metadata": {},
   "outputs": [
    {
     "name": "stderr",
     "output_type": "stream",
     "text": [
      "C:\\Users\\leqian\\AppData\\Local\\Temp\\ipykernel_4856\\87125657.py:2: DeprecationWarning: Passing a backend as a string is deprecated as of qiskit-ibm-runtime 0.26.0 and will be removed no sooner than 3 months after the release date. Use the actual backend object instead.\n",
      "  sampler = Sampler(mode=\"batch\")\n"
     ]
    },
    {
     "ename": "QiskitBackendNotFoundError",
     "evalue": "'No backend matches the criteria. Learn more about available backends here https://cloud.ibm.com/docs/quantum-computing?topic=quantum-computing-choose-backend '",
     "output_type": "error",
     "traceback": [
      "\u001b[31m---------------------------------------------------------------------------\u001b[39m",
      "\u001b[31mQiskitBackendNotFoundError\u001b[39m                Traceback (most recent call last)",
      "\u001b[36mCell\u001b[39m\u001b[36m \u001b[39m\u001b[32mIn[66]\u001b[39m\u001b[32m, line 2\u001b[39m\n\u001b[32m      1\u001b[39m \u001b[38;5;66;03m# Create VQC\u001b[39;00m\n\u001b[32m----> \u001b[39m\u001b[32m2\u001b[39m sampler = Sampler(mode=\u001b[33m\"\u001b[39m\u001b[33mbatch\u001b[39m\u001b[33m\"\u001b[39m)\n\u001b[32m      3\u001b[39m vqc = VQC(sampler=sampler,\n\u001b[32m      4\u001b[39m             feature_map=feature_map,\n\u001b[32m      5\u001b[39m             ansatz=ansatz,\n\u001b[32m      6\u001b[39m             optimizer=\u001b[33m'\u001b[39m\u001b[33mCOBYLA\u001b[39m\u001b[33m'\u001b[39m,\n\u001b[32m      7\u001b[39m             max_iter=\u001b[32m50\u001b[39m)\n",
      "\u001b[36mFile \u001b[39m\u001b[32mc:\\Users\\leqian\\anaconda3\\envs\\qiskit\\Lib\\site-packages\\qiskit_ibm_runtime\\sampler.py:132\u001b[39m, in \u001b[36mSamplerV2.__init__\u001b[39m\u001b[34m(self, mode, backend, session, options)\u001b[39m\n\u001b[32m    130\u001b[39m \u001b[38;5;28;01mif\u001b[39;00m mode \u001b[38;5;129;01mis\u001b[39;00m \u001b[38;5;28;01mNone\u001b[39;00m:\n\u001b[32m    131\u001b[39m     mode = session \u001b[38;5;28;01mif\u001b[39;00m backend \u001b[38;5;129;01mand\u001b[39;00m session \u001b[38;5;28;01melse\u001b[39;00m backend \u001b[38;5;28;01mif\u001b[39;00m backend \u001b[38;5;28;01melse\u001b[39;00m session\n\u001b[32m--> \u001b[39m\u001b[32m132\u001b[39m BasePrimitiveV2.\u001b[34m__init__\u001b[39m(\u001b[38;5;28mself\u001b[39m, mode=mode, options=options)\n",
      "\u001b[36mFile \u001b[39m\u001b[32mc:\\Users\\leqian\\anaconda3\\envs\\qiskit\\Lib\\site-packages\\qiskit_ibm_runtime\\base_primitive.py:145\u001b[39m, in \u001b[36mBasePrimitiveV2.__init__\u001b[39m\u001b[34m(self, mode, options)\u001b[39m\n\u001b[32m    124\u001b[39m \u001b[38;5;28;01mdef\u001b[39;00m\u001b[38;5;250m \u001b[39m\u001b[34m__init__\u001b[39m(\n\u001b[32m    125\u001b[39m     \u001b[38;5;28mself\u001b[39m,\n\u001b[32m    126\u001b[39m     mode: Optional[Union[BackendV1, BackendV2, Session, Batch, \u001b[38;5;28mstr\u001b[39m]] = \u001b[38;5;28;01mNone\u001b[39;00m,\n\u001b[32m    127\u001b[39m     options: Optional[Union[Dict, OptionsT]] = \u001b[38;5;28;01mNone\u001b[39;00m,\n\u001b[32m    128\u001b[39m ):\n\u001b[32m    129\u001b[39m \u001b[38;5;250m    \u001b[39m\u001b[33;03m\"\"\"Initializes the primitive.\u001b[39;00m\n\u001b[32m    130\u001b[39m \n\u001b[32m    131\u001b[39m \u001b[33;03m    Args:\u001b[39;00m\n\u001b[32m   (...)\u001b[39m\u001b[32m    143\u001b[39m \u001b[33;03m        ValueError: Invalid arguments are given.\u001b[39;00m\n\u001b[32m    144\u001b[39m \u001b[33;03m    \"\"\"\u001b[39;00m\n\u001b[32m--> \u001b[39m\u001b[32m145\u001b[39m     \u001b[38;5;28mself\u001b[39m._mode, \u001b[38;5;28mself\u001b[39m._service, \u001b[38;5;28mself\u001b[39m._backend = _get_mode_service_backend(mode)\n\u001b[32m    146\u001b[39m     \u001b[38;5;28mself\u001b[39m._set_options(options)\n",
      "\u001b[36mFile \u001b[39m\u001b[32mc:\\Users\\leqian\\anaconda3\\envs\\qiskit\\Lib\\site-packages\\qiskit_ibm_runtime\\base_primitive.py:106\u001b[39m, in \u001b[36m_get_mode_service_backend\u001b[39m\u001b[34m(mode)\u001b[39m\n\u001b[32m     88\u001b[39m         warnings.warn(\n\u001b[32m     89\u001b[39m             (\n\u001b[32m     90\u001b[39m                 \u001b[33m\"\u001b[39m\u001b[33mPassing a backend as the mode currently runs the job in job mode even \u001b[39m\u001b[33m\"\u001b[39m\n\u001b[32m   (...)\u001b[39m\u001b[32m     99\u001b[39m             stacklevel=\u001b[32m4\u001b[39m,\n\u001b[32m    100\u001b[39m         )\n\u001b[32m    101\u001b[39m     service = (\n\u001b[32m    102\u001b[39m         QiskitRuntimeService()\n\u001b[32m    103\u001b[39m         \u001b[38;5;28;01mif\u001b[39;00m QiskitRuntimeService.global_service \u001b[38;5;129;01mis\u001b[39;00m \u001b[38;5;28;01mNone\u001b[39;00m\n\u001b[32m    104\u001b[39m         \u001b[38;5;28;01melse\u001b[39;00m QiskitRuntimeService.global_service\n\u001b[32m    105\u001b[39m     )\n\u001b[32m--> \u001b[39m\u001b[32m106\u001b[39m     \u001b[38;5;28;01mreturn\u001b[39;00m \u001b[38;5;28;01mNone\u001b[39;00m, service, service.backend(mode)\n\u001b[32m    107\u001b[39m \u001b[38;5;28;01melif\u001b[39;00m mode \u001b[38;5;129;01mis\u001b[39;00m \u001b[38;5;129;01mnot\u001b[39;00m \u001b[38;5;28;01mNone\u001b[39;00m:  \u001b[38;5;66;03m# type: ignore[unreachable]\u001b[39;00m\n\u001b[32m    108\u001b[39m     \u001b[38;5;28;01mraise\u001b[39;00m \u001b[38;5;167;01mValueError\u001b[39;00m(\u001b[33m\"\u001b[39m\u001b[33mmode must be of type Backend, Session, Batch or None\u001b[39m\u001b[33m\"\u001b[39m)\n",
      "\u001b[36mFile \u001b[39m\u001b[32mc:\\Users\\leqian\\anaconda3\\envs\\qiskit\\Lib\\site-packages\\qiskit_ibm_runtime\\qiskit_runtime_service.py:795\u001b[39m, in \u001b[36mQiskitRuntimeService.backend\u001b[39m\u001b[34m(self, name, instance, use_fractional_gates)\u001b[39m\n\u001b[32m    790\u001b[39m     \u001b[38;5;28;01mif\u001b[39;00m \u001b[38;5;28mself\u001b[39m._channel == \u001b[33m\"\u001b[39m\u001b[33mibm_cloud\u001b[39m\u001b[33m\"\u001b[39m:\n\u001b[32m    791\u001b[39m         cloud_msg_url = (\n\u001b[32m    792\u001b[39m             \u001b[33m\"\u001b[39m\u001b[33m Learn more about available backends here \u001b[39m\u001b[33m\"\u001b[39m\n\u001b[32m    793\u001b[39m             \u001b[33m\"\u001b[39m\u001b[33mhttps://cloud.ibm.com/docs/quantum-computing?topic=quantum-computing-choose-backend \u001b[39m\u001b[33m\"\u001b[39m\n\u001b[32m    794\u001b[39m         )\n\u001b[32m--> \u001b[39m\u001b[32m795\u001b[39m     \u001b[38;5;28;01mraise\u001b[39;00m QiskitBackendNotFoundError(\u001b[33m\"\u001b[39m\u001b[33mNo backend matches the criteria.\u001b[39m\u001b[33m\"\u001b[39m + cloud_msg_url)\n\u001b[32m    796\u001b[39m \u001b[38;5;28;01mreturn\u001b[39;00m backends[\u001b[32m0\u001b[39m]\n",
      "\u001b[31mQiskitBackendNotFoundError\u001b[39m: 'No backend matches the criteria. Learn more about available backends here https://cloud.ibm.com/docs/quantum-computing?topic=quantum-computing-choose-backend '"
     ]
    }
   ],
   "source": [
    "# Create VQC\n",
    "sampler = Sampler(mode=\"batch\")\n",
    "vqc = VQC(sampler=sampler,\n",
    "            feature_map=feature_map,\n",
    "            ansatz=ansatz,\n",
    "            optimizer='COBYLA',\n",
    "            max_iter=50)  # Reduced iterations for faster execution\n",
    "\n",
    "# Train\n"
   ]
  },
  {
   "cell_type": "code",
   "execution_count": null,
   "id": "133b8e24",
   "metadata": {},
   "outputs": [],
   "source": [
    "print(\"Training VQC...\")\n",
    "vqc.fit(X_train, y_train)\n",
    "\n",
    "# Predict\n",
    "y_pred_vqc = vqc.predict(X_test)\n",
    "accuracy_vqc = accuracy_score(y_test, y_pred_vqc)\n",
    "\n",
    "print(f\"VQC Accuracy: {accuracy_vqc:.3f}\")\n",
    "    \n"
   ]
  },
  {
   "cell_type": "code",
   "execution_count": 61,
   "id": "20e85790",
   "metadata": {},
   "outputs": [
    {
     "name": "stdout",
     "output_type": "stream",
     "text": [
      "\n",
      "==================================================\n",
      "Running Variational Quantum Classifier...\n"
     ]
    },
    {
     "name": "stderr",
     "output_type": "stream",
     "text": [
      "C:\\Users\\leqian\\AppData\\Local\\Temp\\ipykernel_4856\\1348500438.py:16: DeprecationWarning: The service parameter is deprecated as of qiskit-ibm-runtime 0.26.0 and will be removed no sooner than 3 months after the release date. The service can be extracted from the backend object so it is no longer necessary.\n",
      "  with Session(service=service, backend=backend) as session:\n"
     ]
    },
    {
     "name": "stdout",
     "output_type": "stream",
     "text": [
      "VQC failed: '400 Client Error: Bad Request for url: https://us-east.quantum-computing.cloud.ibm.com/sessions. {\"errors\":[{\"code\":1352,\"message\":\"You are not authorized to run a session when using the open plan.\",\"solution\":\"Create an instance of a different plan type or use a different execution mode <https://quantum.cloud.ibm.com/docs/guides/execution-modes>.\",\"more_info\":\"https://cloud.ibm.com/apidocs/quantum-computing#error-handling\"}],\"trace\":\"d93e9f4c-51a3-4d51-871f-844df53ad0fb\"}\\n'\n"
     ]
    }
   ],
   "source": [
    "# Run VQC as alternative\n",
    "print(\"\\n\" + \"=\"*50)\n",
    "acc_vqc, pred_vqc = run_vqc(\n",
    "    X_train_small, X_test_small, y_train_small, y_test_small, backend, service\n",
    ")\n",
    "\n"
   ]
  },
  {
   "cell_type": "code",
   "execution_count": null,
   "id": "b3fd2b5e",
   "metadata": {},
   "outputs": [],
   "source": [
    "# Summary\n",
    "print(\"\\n\" + \"=\"*50)\n",
    "print(\"RESULTS SUMMARY:\")\n",
    "print(f\"Classical SVM Accuracy: {acc_classical:.3f}\")\n",
    "if acc_quantum:\n",
    "    print(f\"Quantum SVM Accuracy:   {acc_quantum:.3f}\")\n",
    "if acc_vqc:\n",
    "    print(f\"VQC Accuracy:          {acc_vqc:.3f}\")\n",
    "\n",
    "# Print actual vs predicted for small test set\n",
    "print(f\"\\nActual labels:    {y_test_small}\")\n",
    "print(f\"Classical pred:   {pred_classical}\")\n",
    "if pred_quantum is not None:\n",
    "    print(f\"Quantum pred:     {pred_quantum}\")\n",
    "if pred_vqc is not None:\n",
    "    print(f\"VQC pred:         {pred_vqc}\")\n",
    "\n"
   ]
  },
  {
   "cell_type": "code",
   "execution_count": null,
   "id": "298e8a11",
   "metadata": {},
   "outputs": [],
   "source": [
    "# Installation requirements\n",
    "print(\"Required packages:\")\n",
    "print(\"pip install qiskit qiskit-ibm-runtime qiskit-machine-learning\")\n",
    "print(\"pip install qiskit-aer scikit-learn pandas numpy matplotlib\")\n",
    "print(\"\\nNote: qiskit-ibm-provider is deprecated, only use qiskit-ibm-runtime\")\n",
    "print(\"Important: Use FidelityQuantumKernel instead of QuantumKernel in recent versions\")\n",
    "print(\"Make sure qiskit-machine-learning version is >= 0.6\")\n",
    "print(\"\\n\" + \"=\"*50)\n",
    "\n",
    "\n",
    "\n",
    "# Instructions for running on IBM Quantum Cloud:\n",
    "\"\"\"\n",
    "1. Create IBM Quantum account at https://quantum-computing.ibm.com/\n",
    "2. Get your API token from your account settings\n",
    "3. Replace \"YOUR_IBM_QUANTUM_TOKEN_HERE\" with your actual token\n",
    "4. Or save credentials locally using:\n",
    "from qiskit_ibm_runtime import QiskitRuntimeService\n",
    "QiskitRuntimeService.save_account(channel=\"ibm_quantum\", token=\"your_token\")\n",
    "\n",
    "5. For the Pima Indian Diabetes dataset:\n",
    "- Download from: https://www.kaggle.com/datasets/uciml/pima-indians-diabetes-database\n",
    "- Place the CSV file in your working directory\n",
    "- Uncomment the pandas.read_csv line in load_pima_data()\n",
    "\n",
    "Note: This code uses the modern qiskit-ibm-runtime package only.\n",
    "The old qiskit-ibm-provider is deprecated and removed from imports.\n",
    "\n",
    "Current limitations due to quantum hardware constraints:\n",
    "- Uses small subset of data (20 training, 10 test samples)\n",
    "- Limited features (4) due to qubit availability\n",
    "- Consider using dimensionality reduction (PCA) for larger datasets\n",
    "- Use data encoding techniques like amplitude encoding for efficiency\n",
    "- Consider hybrid classical-quantum approaches for practical applications\n",
    "\"\"\""
   ]
  }
 ],
 "metadata": {
  "kernelspec": {
   "display_name": "qiskit",
   "language": "python",
   "name": "python3"
  },
  "language_info": {
   "codemirror_mode": {
    "name": "ipython",
    "version": 3
   },
   "file_extension": ".py",
   "mimetype": "text/x-python",
   "name": "python",
   "nbconvert_exporter": "python",
   "pygments_lexer": "ipython3",
   "version": "3.12.9"
  }
 },
 "nbformat": 4,
 "nbformat_minor": 5
}
