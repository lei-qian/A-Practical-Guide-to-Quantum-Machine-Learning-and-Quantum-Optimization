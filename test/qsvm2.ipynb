{
 "cells": [
  {
   "cell_type": "markdown",
   "id": "7cff8eee",
   "metadata": {},
   "source": [
    "## Import packages"
   ]
  },
  {
   "cell_type": "code",
   "execution_count": 17,
   "id": "299c7d2b",
   "metadata": {},
   "outputs": [],
   "source": [
    "from qiskit_machine_learning.utils import algorithm_globals\n",
    "\n",
    "algorithm_globals.random_seed = 12345"
   ]
  },
  {
   "cell_type": "markdown",
   "id": "7e5a7f9d",
   "metadata": {},
   "source": [
    "## Prepare Data"
   ]
  },
  {
   "cell_type": "code",
   "execution_count": 18,
   "id": "9a8b9098",
   "metadata": {},
   "outputs": [
    {
     "data": {
      "application/vnd.microsoft.datawrangler.viewer.v0+json": {
       "columns": [
        {
         "name": "index",
         "rawType": "int64",
         "type": "integer"
        },
        {
         "name": "Pregnancies",
         "rawType": "int64",
         "type": "integer"
        },
        {
         "name": "Glucose",
         "rawType": "int64",
         "type": "integer"
        },
        {
         "name": "BloodPressure",
         "rawType": "int64",
         "type": "integer"
        },
        {
         "name": "SkinThickness",
         "rawType": "int64",
         "type": "integer"
        },
        {
         "name": "Insulin",
         "rawType": "int64",
         "type": "integer"
        },
        {
         "name": "BMI",
         "rawType": "float64",
         "type": "float"
        },
        {
         "name": "DiabetesPedigreeFunction",
         "rawType": "float64",
         "type": "float"
        },
        {
         "name": "Age",
         "rawType": "int64",
         "type": "integer"
        },
        {
         "name": "Outcome",
         "rawType": "int64",
         "type": "integer"
        }
       ],
       "ref": "90cb6da8-2814-4434-b75b-3f715a365d5e",
       "rows": [
        [
         "0",
         "6",
         "148",
         "72",
         "35",
         "0",
         "33.6",
         "0.627",
         "50",
         "1"
        ],
        [
         "1",
         "1",
         "85",
         "66",
         "29",
         "0",
         "26.6",
         "0.351",
         "31",
         "0"
        ],
        [
         "2",
         "8",
         "183",
         "64",
         "0",
         "0",
         "23.3",
         "0.672",
         "32",
         "1"
        ],
        [
         "3",
         "1",
         "89",
         "66",
         "23",
         "94",
         "28.1",
         "0.167",
         "21",
         "0"
        ],
        [
         "4",
         "0",
         "137",
         "40",
         "35",
         "168",
         "43.1",
         "2.288",
         "33",
         "1"
        ]
       ],
       "shape": {
        "columns": 9,
        "rows": 5
       }
      },
      "text/html": [
       "<div>\n",
       "<style scoped>\n",
       "    .dataframe tbody tr th:only-of-type {\n",
       "        vertical-align: middle;\n",
       "    }\n",
       "\n",
       "    .dataframe tbody tr th {\n",
       "        vertical-align: top;\n",
       "    }\n",
       "\n",
       "    .dataframe thead th {\n",
       "        text-align: right;\n",
       "    }\n",
       "</style>\n",
       "<table border=\"1\" class=\"dataframe\">\n",
       "  <thead>\n",
       "    <tr style=\"text-align: right;\">\n",
       "      <th></th>\n",
       "      <th>Pregnancies</th>\n",
       "      <th>Glucose</th>\n",
       "      <th>BloodPressure</th>\n",
       "      <th>SkinThickness</th>\n",
       "      <th>Insulin</th>\n",
       "      <th>BMI</th>\n",
       "      <th>DiabetesPedigreeFunction</th>\n",
       "      <th>Age</th>\n",
       "      <th>Outcome</th>\n",
       "    </tr>\n",
       "  </thead>\n",
       "  <tbody>\n",
       "    <tr>\n",
       "      <th>0</th>\n",
       "      <td>6</td>\n",
       "      <td>148</td>\n",
       "      <td>72</td>\n",
       "      <td>35</td>\n",
       "      <td>0</td>\n",
       "      <td>33.6</td>\n",
       "      <td>0.627</td>\n",
       "      <td>50</td>\n",
       "      <td>1</td>\n",
       "    </tr>\n",
       "    <tr>\n",
       "      <th>1</th>\n",
       "      <td>1</td>\n",
       "      <td>85</td>\n",
       "      <td>66</td>\n",
       "      <td>29</td>\n",
       "      <td>0</td>\n",
       "      <td>26.6</td>\n",
       "      <td>0.351</td>\n",
       "      <td>31</td>\n",
       "      <td>0</td>\n",
       "    </tr>\n",
       "    <tr>\n",
       "      <th>2</th>\n",
       "      <td>8</td>\n",
       "      <td>183</td>\n",
       "      <td>64</td>\n",
       "      <td>0</td>\n",
       "      <td>0</td>\n",
       "      <td>23.3</td>\n",
       "      <td>0.672</td>\n",
       "      <td>32</td>\n",
       "      <td>1</td>\n",
       "    </tr>\n",
       "    <tr>\n",
       "      <th>3</th>\n",
       "      <td>1</td>\n",
       "      <td>89</td>\n",
       "      <td>66</td>\n",
       "      <td>23</td>\n",
       "      <td>94</td>\n",
       "      <td>28.1</td>\n",
       "      <td>0.167</td>\n",
       "      <td>21</td>\n",
       "      <td>0</td>\n",
       "    </tr>\n",
       "    <tr>\n",
       "      <th>4</th>\n",
       "      <td>0</td>\n",
       "      <td>137</td>\n",
       "      <td>40</td>\n",
       "      <td>35</td>\n",
       "      <td>168</td>\n",
       "      <td>43.1</td>\n",
       "      <td>2.288</td>\n",
       "      <td>33</td>\n",
       "      <td>1</td>\n",
       "    </tr>\n",
       "  </tbody>\n",
       "</table>\n",
       "</div>"
      ],
      "text/plain": [
       "   Pregnancies  Glucose  BloodPressure  SkinThickness  Insulin   BMI  \\\n",
       "0            6      148             72             35        0  33.6   \n",
       "1            1       85             66             29        0  26.6   \n",
       "2            8      183             64              0        0  23.3   \n",
       "3            1       89             66             23       94  28.1   \n",
       "4            0      137             40             35      168  43.1   \n",
       "\n",
       "   DiabetesPedigreeFunction  Age  Outcome  \n",
       "0                     0.627   50        1  \n",
       "1                     0.351   31        0  \n",
       "2                     0.672   32        1  \n",
       "3                     0.167   21        0  \n",
       "4                     2.288   33        1  "
      ]
     },
     "execution_count": 18,
     "metadata": {},
     "output_type": "execute_result"
    }
   ],
   "source": [
    "df = pd.read_csv(\"diabetes.csv\")\n",
    "df.head()"
   ]
  },
  {
   "cell_type": "code",
   "execution_count": 3,
   "id": "0e434b06",
   "metadata": {},
   "outputs": [
    {
     "name": "stdout",
     "output_type": "stream",
     "text": [
      "(576, 8) (192, 8)\n"
     ]
    }
   ],
   "source": [
    "data = df.to_numpy()\n",
    "X = data[:, :-1]  # Use first 8 features to match Pima structure\n",
    "y = data[:,-1]\n",
    "\n",
    "X_train, X_test, y_train, y_test = train_test_split(X, y, test_size=0.25)\n",
    "\n",
    "# Scale to match Pima-like ranges\n",
    "scaler = StandardScaler()\n",
    "X_train_scaled = scaler.fit_transform(X_train)\n",
    "X_test_scaled = scaler.transform(X_test)\n",
    "print(X_train.shape, X_test.shape)"
   ]
  },
  {
   "cell_type": "markdown",
   "id": "b708c3cf",
   "metadata": {},
   "source": [
    "## Use PCA to reduce input dimensions"
   ]
  },
  {
   "cell_type": "code",
   "execution_count": 19,
   "id": "a8b937b1",
   "metadata": {},
   "outputs": [],
   "source": [
    "from sklearn.decomposition import PCA\n",
    "\n",
    "pca = PCA()\n",
    "\n",
    "X_train_pca = pca.fit_transform(X_train_scaled)\n",
    "X_test_pca = pca.transform(X_test_scaled)"
   ]
  },
  {
   "cell_type": "markdown",
   "id": "0249daa6",
   "metadata": {},
   "source": [
    "## Run classical SVM for comparison"
   ]
  },
  {
   "cell_type": "code",
   "execution_count": 20,
   "id": "4f2d033b",
   "metadata": {},
   "outputs": [
    {
     "name": "stdout",
     "output_type": "stream",
     "text": [
      "Running Classical SVM...\n",
      "Classical SVM Accuracy on Training Data:  0.769\n",
      "Classical SVM Accuracy on Test Data: 0.734\n"
     ]
    }
   ],
   "source": [
    "n_features = 4\n",
    "\n",
    "print(\"Running Classical SVM...\")\n",
    "\n",
    "# Train classical SVM\n",
    "classical_svm = SVC(kernel='rbf', C=1.0, random_state=1)\n",
    "classical_svm.fit(X_train_pca[:,:n_features], y_train)\n",
    "\n",
    "y_pred_train_classical = classical_svm.predict(X_train_pca[:, :n_features])\n",
    "accuracy_train_classical = accuracy_score(y_train, y_pred_train_classical)\n",
    "# Predict and evaluate\n",
    "y_pred_classical = classical_svm.predict(X_test_pca[:,:n_features])\n",
    "accuracy_classical = accuracy_score(y_test, y_pred_classical)\n",
    "\n",
    "print(f\"Classical SVM Accuracy on Training Data: {accuracy_train_classical: .3f}\")\n",
    "print(f\"Classical SVM Accuracy on Test Data: {accuracy_classical:.3f}\")\n"
   ]
  },
  {
   "cell_type": "markdown",
   "id": "eb939b1c",
   "metadata": {},
   "source": [
    "## Set up IBM Quantum"
   ]
  },
  {
   "cell_type": "code",
   "execution_count": 21,
   "id": "8e8628a8",
   "metadata": {},
   "outputs": [
    {
     "name": "stdout",
     "output_type": "stream",
     "text": [
      "\n",
      "Setting up quantum backend...\n",
      "Available quantum backends:\n",
      "  - ibm_brisbane: 127 qubits\n",
      "  - ibm_torino: 133 qubits\n",
      "\n",
      "Selected backend: ibm_brisbane\n"
     ]
    }
   ],
   "source": [
    "print(\"\\nSetting up quantum backend...\")\n",
    "\n",
    "token = \"VMgmA9Gjyklr5uAIq8S6FYXrmKvoVN3QLo714I6KjRBA\"\n",
    "instance_id = \"QML\"\n",
    "\n",
    "service = QiskitRuntimeService(channel=\"ibm_cloud\", token=token, instance=instance_id)\n",
    "\n",
    "# Get available backends\n",
    "backends = service.backends(simulator=False, operational=True)\n",
    "print(\"Available quantum backends:\")\n",
    "for backend in backends:\n",
    "    print(f\"  - {backend.name}: {backend.num_qubits} qubits\")\n",
    "\n",
    "# Select least busy real quantum computer\n",
    "if backends:\n",
    "    backend = service.least_busy(operational=True, simulator=False)\n",
    "    print(f\"\\nSelected backend: {backend.name}\")\n",
    "else:\n",
    "    print(\"No quantum backends available, using simulator\")\n",
    "    backend = service.backend('ibmq_qasm_simulator')\n",
    "    "
   ]
  },
  {
   "cell_type": "markdown",
   "id": "25625c51",
   "metadata": {},
   "source": [
    "## Create Quantum Kernel"
   ]
  },
  {
   "cell_type": "code",
   "execution_count": 24,
   "id": "0e14b1c7",
   "metadata": {},
   "outputs": [],
   "source": [
    "from qiskit.circuit.library import ZZFeatureMap\n",
    "from qiskit.primitives import StatevectorSampler as Sampler\n",
    "from qiskit_machine_learning.state_fidelities import ComputeUncompute\n",
    "from qiskit_machine_learning.kernels import FidelityQuantumKernel\n",
    "\n",
    "fm = ZZFeatureMap(feature_dimension=n_features, entanglement=\"linear\")\n",
    "\n",
    "sampler = Sampler()\n",
    "\n",
    "fidelity = ComputeUncompute(sampler=sampler)\n",
    "\n",
    "kernel = FidelityQuantumKernel(fidelity=fidelity, feature_map=fm)"
   ]
  },
  {
   "cell_type": "code",
   "execution_count": null,
   "id": "f410c7b8",
   "metadata": {},
   "outputs": [
    {
     "ename": "TypeError",
     "evalue": "ClassifierMixin.score() missing 1 required positional argument: 'y'",
     "output_type": "error",
     "traceback": [
      "\u001b[31m---------------------------------------------------------------------------\u001b[39m",
      "\u001b[31mTypeError\u001b[39m                                 Traceback (most recent call last)",
      "\u001b[36mCell\u001b[39m\u001b[36m \u001b[39m\u001b[32mIn[25]\u001b[39m\u001b[32m, line 7\u001b[39m\n\u001b[32m      3\u001b[39m svc = SVC(kernel=kernel.evaluate)\n\u001b[32m      5\u001b[39m svc.fit(X_train_pca[:,:n_features], y_train)\n\u001b[32m----> \u001b[39m\u001b[32m7\u001b[39m score_callable_function = svc.score(X_test_pca[:,:n_features])\n\u001b[32m      9\u001b[39m \u001b[38;5;28mprint\u001b[39m(\u001b[33mf\u001b[39m\u001b[33m\"\u001b[39m\u001b[33mCallable kernel classification test score: \u001b[39m\u001b[38;5;132;01m{\u001b[39;00mscore_callable_function\u001b[38;5;132;01m}\u001b[39;00m\u001b[33m\"\u001b[39m)\n",
      "\u001b[31mTypeError\u001b[39m: ClassifierMixin.score() missing 1 required positional argument: 'y'"
     ]
    }
   ],
   "source": [
    "from sklearn.svm import SVC\n",
    "\n",
    "svc = SVC(kernel=kernel.evaluate)\n",
    "\n",
    "svc.fit(X_train_pca[:,:n_features], y_train)\n",
    "\n"
   ]
  },
  {
   "cell_type": "code",
   "execution_count": 26,
   "id": "2c8367cf",
   "metadata": {},
   "outputs": [
    {
     "name": "stdout",
     "output_type": "stream",
     "text": [
      "Callable kernel classification test score: 0.625\n"
     ]
    }
   ],
   "source": [
    "score_callable_function = svc.score(X_test_pca[:,:n_features], y_test)\n",
    "\n",
    "print(f\"Callable kernel classification test score: {score_callable_function}\")"
   ]
  },
  {
   "cell_type": "code",
   "execution_count": 27,
   "id": "c69e6e52",
   "metadata": {},
   "outputs": [
    {
     "name": "stdout",
     "output_type": "stream",
     "text": [
      "Callable kernel classification test score: 0.625\n"
     ]
    }
   ],
   "source": [
    "score_train = svc.score(X_train_pca[:,:n_features], y_train)\n",
    "\n",
    "print(f\"Callable kernel classification test score: {score_callable_function}\")"
   ]
  },
  {
   "cell_type": "code",
   "execution_count": 28,
   "id": "89498bab",
   "metadata": {},
   "outputs": [
    {
     "data": {
      "text/plain": [
       "0.7447916666666666"
      ]
     },
     "execution_count": 28,
     "metadata": {},
     "output_type": "execute_result"
    }
   ],
   "source": [
    "score_train"
   ]
  },
  {
   "cell_type": "code",
   "execution_count": 29,
   "id": "d34f3e3c",
   "metadata": {},
   "outputs": [],
   "source": [
    "from qiskit_ibm_runtime import SamplerV2\n",
    "\n",
    "sampler = SamplerV2(backend)"
   ]
  },
  {
   "cell_type": "code",
   "execution_count": 30,
   "id": "bc1c005f",
   "metadata": {},
   "outputs": [],
   "source": [
    "fidelity = ComputeUncompute(sampler=sampler)\n",
    "\n",
    "kernel = FidelityQuantumKernel(fidelity=fidelity, feature_map=fm)"
   ]
  },
  {
   "cell_type": "code",
   "execution_count": 31,
   "id": "85cd1fd2",
   "metadata": {},
   "outputs": [
    {
     "ename": "IBMInputValueError",
     "evalue": "'The instruction ZZFeatureMap on qubits (0, 1, 2, 3) is not supported by the target system. Circuits that do not match the target hardware definition are no longer supported after March 4, 2024. See the transpilation documentation (https://docs.quantum.ibm.com/guides/transpile) for instructions to transform circuits and the primitive examples (https://docs.quantum.ibm.com/guides/primitives-examples) to see this coupled with operator transformations.'",
     "output_type": "error",
     "traceback": [
      "\u001b[31m---------------------------------------------------------------------------\u001b[39m",
      "\u001b[31mIBMInputValueError\u001b[39m                        Traceback (most recent call last)",
      "\u001b[36mCell\u001b[39m\u001b[36m \u001b[39m\u001b[32mIn[31]\u001b[39m\u001b[32m, line 5\u001b[39m\n\u001b[32m      1\u001b[39m \u001b[38;5;28;01mfrom\u001b[39;00m\u001b[38;5;250m \u001b[39m\u001b[34;01msklearn\u001b[39;00m\u001b[34;01m.\u001b[39;00m\u001b[34;01msvm\u001b[39;00m\u001b[38;5;250m \u001b[39m\u001b[38;5;28;01mimport\u001b[39;00m SVC\n\u001b[32m      3\u001b[39m svc_ibm = SVC(kernel=kernel.evaluate)\n\u001b[32m----> \u001b[39m\u001b[32m5\u001b[39m svc_ibm.fit(X_train_pca[:,:n_features], y_train)\n",
      "\u001b[36mFile \u001b[39m\u001b[32mc:\\Users\\leqian\\anaconda3\\envs\\qiskit\\Lib\\site-packages\\sklearn\\base.py:1389\u001b[39m, in \u001b[36m_fit_context.<locals>.decorator.<locals>.wrapper\u001b[39m\u001b[34m(estimator, *args, **kwargs)\u001b[39m\n\u001b[32m   1382\u001b[39m     estimator._validate_params()\n\u001b[32m   1384\u001b[39m \u001b[38;5;28;01mwith\u001b[39;00m config_context(\n\u001b[32m   1385\u001b[39m     skip_parameter_validation=(\n\u001b[32m   1386\u001b[39m         prefer_skip_nested_validation \u001b[38;5;129;01mor\u001b[39;00m global_skip_validation\n\u001b[32m   1387\u001b[39m     )\n\u001b[32m   1388\u001b[39m ):\n\u001b[32m-> \u001b[39m\u001b[32m1389\u001b[39m     \u001b[38;5;28;01mreturn\u001b[39;00m fit_method(estimator, *args, **kwargs)\n",
      "\u001b[36mFile \u001b[39m\u001b[32mc:\\Users\\leqian\\anaconda3\\envs\\qiskit\\Lib\\site-packages\\sklearn\\svm\\_base.py:258\u001b[39m, in \u001b[36mBaseLibSVM.fit\u001b[39m\u001b[34m(self, X, y, sample_weight)\u001b[39m\n\u001b[32m    255\u001b[39m     \u001b[38;5;28mprint\u001b[39m(\u001b[33m\"\u001b[39m\u001b[33m[LibSVM]\u001b[39m\u001b[33m\"\u001b[39m, end=\u001b[33m\"\u001b[39m\u001b[33m\"\u001b[39m)\n\u001b[32m    257\u001b[39m seed = rnd.randint(np.iinfo(\u001b[33m\"\u001b[39m\u001b[33mi\u001b[39m\u001b[33m\"\u001b[39m).max)\n\u001b[32m--> \u001b[39m\u001b[32m258\u001b[39m fit(X, y, sample_weight, solver_type, kernel, random_seed=seed)\n\u001b[32m    259\u001b[39m \u001b[38;5;66;03m# see comment on the other call to np.iinfo in this file\u001b[39;00m\n\u001b[32m    261\u001b[39m \u001b[38;5;28mself\u001b[39m.shape_fit_ = X.shape \u001b[38;5;28;01mif\u001b[39;00m \u001b[38;5;28mhasattr\u001b[39m(X, \u001b[33m\"\u001b[39m\u001b[33mshape\u001b[39m\u001b[33m\"\u001b[39m) \u001b[38;5;28;01melse\u001b[39;00m (n_samples,)\n",
      "\u001b[36mFile \u001b[39m\u001b[32mc:\\Users\\leqian\\anaconda3\\envs\\qiskit\\Lib\\site-packages\\sklearn\\svm\\_base.py:317\u001b[39m, in \u001b[36mBaseLibSVM._dense_fit\u001b[39m\u001b[34m(self, X, y, sample_weight, solver_type, kernel, random_seed)\u001b[39m\n\u001b[32m    313\u001b[39m \u001b[38;5;28;01mif\u001b[39;00m \u001b[38;5;28mcallable\u001b[39m(\u001b[38;5;28mself\u001b[39m.kernel):\n\u001b[32m    314\u001b[39m     \u001b[38;5;66;03m# you must store a reference to X to compute the kernel in predict\u001b[39;00m\n\u001b[32m    315\u001b[39m     \u001b[38;5;66;03m# TODO: add keyword copy to copy on demand\u001b[39;00m\n\u001b[32m    316\u001b[39m     \u001b[38;5;28mself\u001b[39m.__Xfit = X\n\u001b[32m--> \u001b[39m\u001b[32m317\u001b[39m     X = \u001b[38;5;28mself\u001b[39m._compute_kernel(X)\n\u001b[32m    319\u001b[39m     \u001b[38;5;28;01mif\u001b[39;00m X.shape[\u001b[32m0\u001b[39m] != X.shape[\u001b[32m1\u001b[39m]:\n\u001b[32m    320\u001b[39m         \u001b[38;5;28;01mraise\u001b[39;00m \u001b[38;5;167;01mValueError\u001b[39;00m(\u001b[33m\"\u001b[39m\u001b[33mX.shape[0] should be equal to X.shape[1]\u001b[39m\u001b[33m\"\u001b[39m)\n",
      "\u001b[36mFile \u001b[39m\u001b[32mc:\\Users\\leqian\\anaconda3\\envs\\qiskit\\Lib\\site-packages\\sklearn\\svm\\_base.py:515\u001b[39m, in \u001b[36mBaseLibSVM._compute_kernel\u001b[39m\u001b[34m(self, X)\u001b[39m\n\u001b[32m    511\u001b[39m \u001b[38;5;250m\u001b[39m\u001b[33;03m\"\"\"Return the data transformed by a callable kernel\"\"\"\u001b[39;00m\n\u001b[32m    512\u001b[39m \u001b[38;5;28;01mif\u001b[39;00m \u001b[38;5;28mcallable\u001b[39m(\u001b[38;5;28mself\u001b[39m.kernel):\n\u001b[32m    513\u001b[39m     \u001b[38;5;66;03m# in the case of precomputed kernel given as a function, we\u001b[39;00m\n\u001b[32m    514\u001b[39m     \u001b[38;5;66;03m# have to compute explicitly the kernel matrix\u001b[39;00m\n\u001b[32m--> \u001b[39m\u001b[32m515\u001b[39m     kernel = \u001b[38;5;28mself\u001b[39m.kernel(X, \u001b[38;5;28mself\u001b[39m.__Xfit)\n\u001b[32m    516\u001b[39m     \u001b[38;5;28;01mif\u001b[39;00m sp.issparse(kernel):\n\u001b[32m    517\u001b[39m         kernel = kernel.toarray()\n",
      "\u001b[36mFile \u001b[39m\u001b[32mc:\\Users\\leqian\\anaconda3\\envs\\qiskit\\Lib\\site-packages\\qiskit_machine_learning\\kernels\\fidelity_quantum_kernel.py:114\u001b[39m, in \u001b[36mFidelityQuantumKernel.evaluate\u001b[39m\u001b[34m(self, x_vec, y_vec)\u001b[39m\n\u001b[32m    112\u001b[39m \u001b[38;5;28;01mif\u001b[39;00m is_symmetric:\n\u001b[32m    113\u001b[39m     left_parameters, right_parameters, indices = \u001b[38;5;28mself\u001b[39m._get_symmetric_parameterization(x_vec)\n\u001b[32m--> \u001b[39m\u001b[32m114\u001b[39m     kernel_matrix = \u001b[38;5;28mself\u001b[39m._get_symmetric_kernel_matrix(\n\u001b[32m    115\u001b[39m         kernel_shape, left_parameters, right_parameters, indices\n\u001b[32m    116\u001b[39m     )\n\u001b[32m    117\u001b[39m \u001b[38;5;28;01melse\u001b[39;00m:\n\u001b[32m    118\u001b[39m     left_parameters, right_parameters, indices = \u001b[38;5;28mself\u001b[39m._get_parameterization(x_vec, y_vec)\n",
      "\u001b[36mFile \u001b[39m\u001b[32mc:\\Users\\leqian\\anaconda3\\envs\\qiskit\\Lib\\site-packages\\qiskit_machine_learning\\kernels\\fidelity_quantum_kernel.py:208\u001b[39m, in \u001b[36mFidelityQuantumKernel._get_symmetric_kernel_matrix\u001b[39m\u001b[34m(self, kernel_shape, left_parameters, right_parameters, indices)\u001b[39m\n\u001b[32m    198\u001b[39m \u001b[38;5;28;01mdef\u001b[39;00m\u001b[38;5;250m \u001b[39m\u001b[34m_get_symmetric_kernel_matrix\u001b[39m(\n\u001b[32m    199\u001b[39m     \u001b[38;5;28mself\u001b[39m,\n\u001b[32m    200\u001b[39m     kernel_shape: \u001b[38;5;28mtuple\u001b[39m[\u001b[38;5;28mint\u001b[39m, \u001b[38;5;28mint\u001b[39m],\n\u001b[32m   (...)\u001b[39m\u001b[32m    203\u001b[39m     indices: KernelIndices,\n\u001b[32m    204\u001b[39m ) -> np.ndarray:\n\u001b[32m    205\u001b[39m \u001b[38;5;250m    \u001b[39m\u001b[33;03m\"\"\"\u001b[39;00m\n\u001b[32m    206\u001b[39m \u001b[33;03m    Given a set of parameterization, this computes the kernel matrix.\u001b[39;00m\n\u001b[32m    207\u001b[39m \u001b[33;03m    \"\"\"\u001b[39;00m\n\u001b[32m--> \u001b[39m\u001b[32m208\u001b[39m     kernel_entries = \u001b[38;5;28mself\u001b[39m._get_kernel_entries(left_parameters, right_parameters)\n\u001b[32m    209\u001b[39m     kernel_matrix = np.ones(kernel_shape)\n\u001b[32m    211\u001b[39m     \u001b[38;5;28;01mfor\u001b[39;00m i, (col, row) \u001b[38;5;129;01min\u001b[39;00m \u001b[38;5;28menumerate\u001b[39m(indices):\n",
      "\u001b[36mFile \u001b[39m\u001b[32mc:\\Users\\leqian\\anaconda3\\envs\\qiskit\\Lib\\site-packages\\qiskit_machine_learning\\kernels\\fidelity_quantum_kernel.py:229\u001b[39m, in \u001b[36mFidelityQuantumKernel._get_kernel_entries\u001b[39m\u001b[34m(self, left_parameters, right_parameters)\u001b[39m\n\u001b[32m    227\u001b[39m \u001b[38;5;28;01mif\u001b[39;00m num_circuits != \u001b[32m0\u001b[39m:\n\u001b[32m    228\u001b[39m     \u001b[38;5;28;01mif\u001b[39;00m \u001b[38;5;28mself\u001b[39m.max_circuits_per_job \u001b[38;5;129;01mis\u001b[39;00m \u001b[38;5;28;01mNone\u001b[39;00m:\n\u001b[32m--> \u001b[39m\u001b[32m229\u001b[39m         job = \u001b[38;5;28mself\u001b[39m._fidelity.run(\n\u001b[32m    230\u001b[39m             [\u001b[38;5;28mself\u001b[39m._feature_map] * num_circuits,\n\u001b[32m    231\u001b[39m             [\u001b[38;5;28mself\u001b[39m._feature_map] * num_circuits,\n\u001b[32m    232\u001b[39m             left_parameters,  \u001b[38;5;66;03m# type: ignore[arg-type]\u001b[39;00m\n\u001b[32m    233\u001b[39m             right_parameters,  \u001b[38;5;66;03m# type: ignore[arg-type]\u001b[39;00m\n\u001b[32m    234\u001b[39m         )\n\u001b[32m    235\u001b[39m         kernel_entries = job.result().fidelities\n\u001b[32m    236\u001b[39m     \u001b[38;5;28;01melse\u001b[39;00m:\n\u001b[32m    237\u001b[39m         \u001b[38;5;66;03m# Determine the number of chunks needed\u001b[39;00m\n",
      "\u001b[36mFile \u001b[39m\u001b[32mc:\\Users\\leqian\\anaconda3\\envs\\qiskit\\Lib\\site-packages\\qiskit_machine_learning\\state_fidelities\\base_state_fidelity.py:295\u001b[39m, in \u001b[36mBaseStateFidelity.run\u001b[39m\u001b[34m(self, circuits_1, circuits_2, values_1, values_2, **options)\u001b[39m\n\u001b[32m    267\u001b[39m \u001b[38;5;28;01mdef\u001b[39;00m\u001b[38;5;250m \u001b[39m\u001b[34mrun\u001b[39m(\n\u001b[32m    268\u001b[39m     \u001b[38;5;28mself\u001b[39m,\n\u001b[32m    269\u001b[39m     circuits_1: QuantumCircuit | Sequence[QuantumCircuit],\n\u001b[32m   (...)\u001b[39m\u001b[32m    273\u001b[39m     **options,\n\u001b[32m    274\u001b[39m ) -> AlgorithmJob:\n\u001b[32m    275\u001b[39m \u001b[38;5;250m    \u001b[39m\u001b[33mr\u001b[39m\u001b[33;03m\"\"\"\u001b[39;00m\n\u001b[32m    276\u001b[39m \u001b[33;03m    Runs asynchronously the state overlap (fidelity) calculation between two\u001b[39;00m\n\u001b[32m    277\u001b[39m \u001b[33;03m    (parametrized) circuits (first and second) for a specific set of parameter\u001b[39;00m\n\u001b[32m   (...)\u001b[39m\u001b[32m    293\u001b[39m \u001b[33;03m        The job's result is an instance of :class:`.StateFidelityResult`.\u001b[39;00m\n\u001b[32m    294\u001b[39m \u001b[33;03m    \"\"\"\u001b[39;00m\n\u001b[32m--> \u001b[39m\u001b[32m295\u001b[39m     job = \u001b[38;5;28mself\u001b[39m._run(circuits_1, circuits_2, values_1, values_2, **options)\n\u001b[32m    297\u001b[39m     job.submit()\n\u001b[32m    298\u001b[39m     \u001b[38;5;28;01mreturn\u001b[39;00m job\n",
      "\u001b[36mFile \u001b[39m\u001b[32mc:\\Users\\leqian\\anaconda3\\envs\\qiskit\\Lib\\site-packages\\qiskit_machine_learning\\state_fidelities\\compute_uncompute.py:187\u001b[39m, in \u001b[36mComputeUncompute._run\u001b[39m\u001b[34m(self, circuits_1, circuits_2, values_1, values_2, **options)\u001b[39m\n\u001b[32m    185\u001b[39m     local_opts = \u001b[38;5;28mself\u001b[39m._get_local_options(opts.\u001b[34m__dict__\u001b[39m)\n\u001b[32m    186\u001b[39m \u001b[38;5;28;01melif\u001b[39;00m \u001b[38;5;28misinstance\u001b[39m(\u001b[38;5;28mself\u001b[39m._sampler, BaseSamplerV2):\n\u001b[32m--> \u001b[39m\u001b[32m187\u001b[39m     sampler_job = \u001b[38;5;28mself\u001b[39m._sampler.run(\n\u001b[32m    188\u001b[39m         [(circuits[i], values[i]) \u001b[38;5;28;01mfor\u001b[39;00m i \u001b[38;5;129;01min\u001b[39;00m \u001b[38;5;28mrange\u001b[39m(\u001b[38;5;28mlen\u001b[39m(circuits))], **opts.\u001b[34m__dict__\u001b[39m\n\u001b[32m    189\u001b[39m     )\n\u001b[32m    190\u001b[39m     \u001b[38;5;28;01mif\u001b[39;00m \u001b[38;5;28mhasattr\u001b[39m(circuits[\u001b[32m0\u001b[39m].layout, \u001b[33m\"\u001b[39m\u001b[33m_input_qubit_count\u001b[39m\u001b[33m\"\u001b[39m):\n\u001b[32m    191\u001b[39m         _len_quasi_dist = circuits[\u001b[32m0\u001b[39m].layout._input_qubit_count\n",
      "\u001b[36mFile \u001b[39m\u001b[32mc:\\Users\\leqian\\anaconda3\\envs\\qiskit\\Lib\\site-packages\\qiskit_ibm_runtime\\sampler.py:156\u001b[39m, in \u001b[36mSamplerV2.run\u001b[39m\u001b[34m(self, pubs, shots)\u001b[39m\n\u001b[32m    152\u001b[39m coerced_pubs = [SamplerPub.coerce(pub, shots) \u001b[38;5;28;01mfor\u001b[39;00m pub \u001b[38;5;129;01min\u001b[39;00m pubs]\n\u001b[32m    154\u001b[39m validate_classical_registers(coerced_pubs)\n\u001b[32m--> \u001b[39m\u001b[32m156\u001b[39m \u001b[38;5;28;01mreturn\u001b[39;00m \u001b[38;5;28mself\u001b[39m._run(coerced_pubs)\n",
      "\u001b[36mFile \u001b[39m\u001b[32mc:\\Users\\leqian\\anaconda3\\envs\\qiskit\\Lib\\site-packages\\qiskit_ibm_runtime\\base_primitive.py:168\u001b[39m, in \u001b[36mBasePrimitiveV2._run\u001b[39m\u001b[34m(self, pubs)\u001b[39m\n\u001b[32m    166\u001b[39m \u001b[38;5;28;01mfor\u001b[39;00m pub \u001b[38;5;129;01min\u001b[39;00m pubs:\n\u001b[32m    167\u001b[39m     \u001b[38;5;28;01mif\u001b[39;00m \u001b[38;5;28mgetattr\u001b[39m(\u001b[38;5;28mself\u001b[39m._backend, \u001b[33m\"\u001b[39m\u001b[33mtarget\u001b[39m\u001b[33m\"\u001b[39m, \u001b[38;5;28;01mNone\u001b[39;00m) \u001b[38;5;129;01mand\u001b[39;00m \u001b[38;5;129;01mnot\u001b[39;00m is_simulator(\u001b[38;5;28mself\u001b[39m._backend):\n\u001b[32m--> \u001b[39m\u001b[32m168\u001b[39m         validate_isa_circuits([pub.circuit], \u001b[38;5;28mself\u001b[39m._backend.target)\n\u001b[32m    170\u001b[39m     \u001b[38;5;28;01mif\u001b[39;00m \u001b[38;5;28misinstance\u001b[39m(\u001b[38;5;28mself\u001b[39m._backend, IBMBackend):\n\u001b[32m    171\u001b[39m         \u001b[38;5;28mself\u001b[39m._backend.check_faulty(pub.circuit)\n",
      "\u001b[36mFile \u001b[39m\u001b[32mc:\\Users\\leqian\\anaconda3\\envs\\qiskit\\Lib\\site-packages\\qiskit_ibm_runtime\\utils\\validations.py:90\u001b[39m, in \u001b[36mvalidate_isa_circuits\u001b[39m\u001b[34m(circuits, target)\u001b[39m\n\u001b[32m     88\u001b[39m message = is_isa_circuit(circuit, target)\n\u001b[32m     89\u001b[39m \u001b[38;5;28;01mif\u001b[39;00m message:\n\u001b[32m---> \u001b[39m\u001b[32m90\u001b[39m     \u001b[38;5;28;01mraise\u001b[39;00m IBMInputValueError(\n\u001b[32m     91\u001b[39m         message\n\u001b[32m     92\u001b[39m         + \u001b[33m\"\u001b[39m\u001b[33m Circuits that do not match the target hardware definition are no longer \u001b[39m\u001b[33m\"\u001b[39m\n\u001b[32m     93\u001b[39m         \u001b[33m\"\u001b[39m\u001b[33msupported after March 4, 2024. See the transpilation documentation \u001b[39m\u001b[33m\"\u001b[39m\n\u001b[32m     94\u001b[39m         \u001b[33m\"\u001b[39m\u001b[33m(https://docs.quantum.ibm.com/guides/transpile) for instructions \u001b[39m\u001b[33m\"\u001b[39m\n\u001b[32m     95\u001b[39m         \u001b[33m\"\u001b[39m\u001b[33mto transform circuits and the primitive examples \u001b[39m\u001b[33m\"\u001b[39m\n\u001b[32m     96\u001b[39m         \u001b[33m\"\u001b[39m\u001b[33m(https://docs.quantum.ibm.com/guides/primitives-examples) to see \u001b[39m\u001b[33m\"\u001b[39m\n\u001b[32m     97\u001b[39m         \u001b[33m\"\u001b[39m\u001b[33mthis coupled with operator transformations.\u001b[39m\u001b[33m\"\u001b[39m\n\u001b[32m     98\u001b[39m     )\n",
      "\u001b[31mIBMInputValueError\u001b[39m: 'The instruction ZZFeatureMap on qubits (0, 1, 2, 3) is not supported by the target system. Circuits that do not match the target hardware definition are no longer supported after March 4, 2024. See the transpilation documentation (https://docs.quantum.ibm.com/guides/transpile) for instructions to transform circuits and the primitive examples (https://docs.quantum.ibm.com/guides/primitives-examples) to see this coupled with operator transformations.'"
     ]
    }
   ],
   "source": [
    "from sklearn.svm import SVC\n",
    "\n",
    "svc_ibm = SVC(kernel=kernel.evaluate)\n",
    "\n",
    "svc_ibm.fit(X_train_pca[:,:n_features], y_train)\n"
   ]
  },
  {
   "cell_type": "markdown",
   "id": "011d50d7",
   "metadata": {},
   "source": [
    "## Run classical SVM for comparison"
   ]
  },
  {
   "cell_type": "code",
   "execution_count": 8,
   "id": "840ff301",
   "metadata": {},
   "outputs": [
    {
     "ename": "NameError",
     "evalue": "name 'overlap_circ' is not defined",
     "output_type": "error",
     "traceback": [
      "\u001b[31m---------------------------------------------------------------------------\u001b[39m",
      "\u001b[31mNameError\u001b[39m                                 Traceback (most recent call last)",
      "\u001b[36mCell\u001b[39m\u001b[36m \u001b[39m\u001b[32mIn[8]\u001b[39m\u001b[32m, line 5\u001b[39m\n\u001b[32m      3\u001b[39m \u001b[38;5;66;03m# Apply level 3 optimization to our overlap circuit\u001b[39;00m\n\u001b[32m      4\u001b[39m pm = generate_preset_pass_manager(optimization_level=\u001b[32m3\u001b[39m, backend=backend)\n\u001b[32m----> \u001b[39m\u001b[32m5\u001b[39m overlap_ibm = pm.run(overlap_circ)\n",
      "\u001b[31mNameError\u001b[39m: name 'overlap_circ' is not defined"
     ]
    }
   ],
   "source": [
    "from qiskit.transpiler.preset_passmanagers import generate_preset_pass_manager\n",
    "\n",
    "# Apply level 3 optimization to our overlap circuit\n",
    "pm = generate_preset_pass_manager(optimization_level=3, backend=backend)\n",
    "overlap_ibm = pm.run(overlap_circ)"
   ]
  },
  {
   "cell_type": "code",
   "execution_count": null,
   "id": "e26f3483",
   "metadata": {},
   "outputs": [],
   "source": []
  }
 ],
 "metadata": {
  "kernelspec": {
   "display_name": "qiskit",
   "language": "python",
   "name": "python3"
  },
  "language_info": {
   "codemirror_mode": {
    "name": "ipython",
    "version": 3
   },
   "file_extension": ".py",
   "mimetype": "text/x-python",
   "name": "python",
   "nbconvert_exporter": "python",
   "pygments_lexer": "ipython3",
   "version": "3.12.9"
  }
 },
 "nbformat": 4,
 "nbformat_minor": 5
}
